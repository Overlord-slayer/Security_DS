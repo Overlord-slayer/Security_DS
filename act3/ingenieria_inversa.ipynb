{
 "cells": [
  {
   "cell_type": "code",
   "execution_count": 1,
   "id": "98c9edc7-4d04-443d-82fa-c38c9e429127",
   "metadata": {},
   "outputs": [],
   "source": [
    "import pefile\n",
    "from capstone import *"
   ]
  },
  {
   "cell_type": "code",
   "execution_count": 2,
   "id": "ef8a750b-7f2e-43fb-a91d-eeb7ac9dd0ec",
   "metadata": {},
   "outputs": [],
   "source": [
    "pe = pefile.PE(\"main.exe\")"
   ]
  },
  {
   "cell_type": "code",
   "execution_count": 3,
   "id": "9cce22ab-3f0e-4b7f-95b0-f6adefa1664c",
   "metadata": {},
   "outputs": [],
   "source": [
    "# get the address of the program entry point from the program header\n",
    "entrypoint = pe.OPTIONAL_HEADER.AddressOfEntryPoint"
   ]
  },
  {
   "cell_type": "code",
   "execution_count": 4,
   "id": "6f67770b-1a1a-4a80-8ea6-713c601861e7",
   "metadata": {},
   "outputs": [],
   "source": [
    "# compute memory address where the entry code will be loaded into memory\n",
    "entrypoint_address = entrypoint+pe.OPTIONAL_HEADER.ImageBase"
   ]
  },
  {
   "cell_type": "code",
   "execution_count": 5,
   "id": "6313dd42-54d3-4904-8e39-d3f86e0bcc64",
   "metadata": {},
   "outputs": [],
   "source": [
    "# get the binary code from the PE file object\n",
    "binary_code = pe.get_memory_mapped_image()[entrypoint:entrypoint+200]"
   ]
  },
  {
   "cell_type": "code",
   "execution_count": 6,
   "id": "6d1d6b3e-b360-4a07-8fbe-96cb2b9b7549",
   "metadata": {},
   "outputs": [],
   "source": [
    "# initialize disassembler to disassemble 32 bit x86 binary code\n",
    "disassembler = Cs(CS_ARCH_X86, CS_MODE_32)"
   ]
  },
  {
   "cell_type": "code",
   "execution_count": 7,
   "id": "79624c6e-0911-47b2-a6f2-bf01b2f1d902",
   "metadata": {},
   "outputs": [
    {
     "name": "stdout",
     "output_type": "stream",
     "text": [
      "dec\teax\n",
      "sub\tesp, 0x28\n",
      "dec\teax\n",
      "mov\teax, dword ptr [0x3005]\n",
      "mov\tdword ptr [eax], 0\n",
      "call\t0x40001180\n",
      "nop\t\n",
      "nop\t\n",
      "dec\teax\n",
      "add\tesp, 0x28\n",
      "ret\t\n",
      "nop\tdword ptr [eax]\n",
      "dec\teax\n",
      "sub\tesp, 0x28\n",
      "call\t0x400026f0\n",
      "dec\teax\n",
      "cmp\teax, 1\n",
      "sbb\teax, eax\n",
      "dec\teax\n",
      "add\tesp, 0x28\n",
      "ret\t\n",
      "nop\t\n",
      "nop\t\n",
      "nop\t\n",
      "nop\t\n",
      "nop\t\n",
      "nop\t\n",
      "nop\t\n",
      "nop\t\n",
      "nop\t\n",
      "nop\t\n",
      "nop\t\n",
      "nop\t\n",
      "dec\teax\n",
      "lea\tecx, [9]\n",
      "jmp\t0x40001410\n",
      "nop\tdword ptr [eax]\n",
      "ret\t\n",
      "nop\t\n",
      "nop\t\n",
      "nop\t\n",
      "nop\t\n",
      "nop\t\n",
      "nop\t\n",
      "nop\t\n",
      "nop\t\n",
      "nop\t\n",
      "nop\t\n",
      "nop\t\n",
      "nop\t\n",
      "nop\t\n",
      "nop\t\n",
      "nop\t\n",
      "push\tebp\n",
      "dec\teax\n",
      "mov\tebp, esp\n",
      "dec\teax\n",
      "sub\tesp, 0x20\n",
      "mov\tdword ptr [ebp + 0x10], ecx\n",
      "dec\teax\n",
      "mov\tdword ptr [ebp + 0x18], edx\n",
      "call\t0x40001550\n",
      "dec\teax\n",
      "lea\teax, [0x2b95]\n",
      "dec\teax\n",
      "mov\tecx, eax\n",
      "call\t0x40002880\n",
      "mov\teax, 0\n",
      "dec\teax\n",
      "add\tesp, 0x20\n",
      "pop\tebp\n",
      "ret\t\n",
      "nop\t\n",
      "nop\t\n",
      "dec\teax\n",
      "sub\tesp, 0x28\n",
      "dec\teax\n",
      "mov\teax, dword ptr [0x1b75]\n",
      "dec\teax\n",
      "mov\teax, dword ptr [eax]\n",
      "dec\teax\n",
      "test\teax, eax\n",
      "je\t0x400014bd\n",
      "nop\tword ptr cs:[eax + eax]\n",
      "nop\t\n",
      "call\teax\n",
      "dec\teax\n",
      "mov\teax, dword ptr [0x1b57]\n",
      "dec\teax\n",
      "lea\tedx, [eax + 8]\n",
      "dec\teax\n",
      "mov\teax, dword ptr [eax + 8]\n",
      "dec\teax\n",
      "mov\tdword ptr [0x1b48], edx\n"
     ]
    }
   ],
   "source": [
    "# disassemble the code\n",
    "for instruction in disassembler.disasm(binary_code, entrypoint_address):\n",
    "    print (\"%s\\t%s\" %(instruction.mnemonic, instruction.op_str))"
   ]
  },
  {
   "cell_type": "code",
   "execution_count": null,
   "id": "d9b8c795-9b92-42a1-b1fd-240207746329",
   "metadata": {},
   "outputs": [],
   "source": []
  }
 ],
 "metadata": {
  "kernelspec": {
   "display_name": "Python 3 (ipykernel)",
   "language": "python",
   "name": "python3"
  },
  "language_info": {
   "codemirror_mode": {
    "name": "ipython",
    "version": 3
   },
   "file_extension": ".py",
   "mimetype": "text/x-python",
   "name": "python",
   "nbconvert_exporter": "python",
   "pygments_lexer": "ipython3",
   "version": "3.12.3"
  }
 },
 "nbformat": 4,
 "nbformat_minor": 5
}
