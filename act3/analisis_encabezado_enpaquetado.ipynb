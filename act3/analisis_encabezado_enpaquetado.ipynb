{
 "cells": [
  {
   "cell_type": "code",
   "execution_count": 2,
   "id": "099c0bf2-3f2f-45af-aadb-2165f3170e3d",
   "metadata": {},
   "outputs": [],
   "source": [
    "import pefile"
   ]
  },
  {
   "cell_type": "code",
   "execution_count": 6,
   "id": "bc4bf2a7-74e2-4017-8d45-ca9e959ff4c6",
   "metadata": {},
   "outputs": [],
   "source": [
    "pe = pefile.PE(\"./examples/sample_vg655_25th.exe\")"
   ]
  },
  {
   "cell_type": "code",
   "execution_count": 7,
   "id": "340ae51e-37e8-4a63-a016-1269c1060f4b",
   "metadata": {},
   "outputs": [
    {
     "name": "stdout",
     "output_type": "stream",
     "text": [
      "SECCIONES \t\n",
      "b'.text\\x00\\x00\\x00' 0x1000 0x69b0 28672\n",
      "b'.rdata\\x00\\x00' 0x8000 0x5f70 24576\n",
      "b'.data\\x00\\x00\\x00' 0xe000 0x1958 8192\n",
      "b'.rsrc\\x00\\x00\\x00' 0x10000 0x349fa0 3448832\n"
     ]
    }
   ],
   "source": [
    "print('SECCIONES \\t')\n",
    "for section in pe.sections:\n",
    "    print(section.Name, hex(section.VirtualAddress), hex(section.Misc_VirtualSize), section.SizeOfRawData)"
   ]
  },
  {
   "cell_type": "code",
   "execution_count": 8,
   "id": "d0432464-4032-46a5-9503-faca5438bf72",
   "metadata": {},
   "outputs": [
    {
     "name": "stdout",
     "output_type": "stream",
     "text": [
      "LLAMADAS A DLL \t\n",
      "b'KERNEL32.dll'\n",
      "LLAMADAS A FUNCIONES \t\n",
      "\t b'GetFileAttributesW'\n",
      "\t b'GetFileSizeEx'\n",
      "\t b'CreateFileA'\n",
      "\t b'InitializeCriticalSection'\n",
      "\t b'DeleteCriticalSection'\n",
      "\t b'ReadFile'\n",
      "\t b'GetFileSize'\n",
      "\t b'WriteFile'\n",
      "\t b'LeaveCriticalSection'\n",
      "\t b'EnterCriticalSection'\n",
      "\t b'SetFileAttributesW'\n",
      "\t b'SetCurrentDirectoryW'\n",
      "\t b'CreateDirectoryW'\n",
      "\t b'GetTempPathW'\n",
      "\t b'GetWindowsDirectoryW'\n",
      "\t b'GetFileAttributesA'\n",
      "\t b'SizeofResource'\n",
      "\t b'LockResource'\n",
      "\t b'LoadResource'\n",
      "\t b'MultiByteToWideChar'\n",
      "\t b'Sleep'\n",
      "\t b'OpenMutexA'\n",
      "\t b'GetFullPathNameA'\n",
      "\t b'CopyFileA'\n",
      "\t b'GetModuleFileNameA'\n",
      "\t b'VirtualAlloc'\n",
      "\t b'VirtualFree'\n",
      "\t b'FreeLibrary'\n",
      "\t b'HeapAlloc'\n",
      "\t b'GetProcessHeap'\n",
      "\t b'GetModuleHandleA'\n",
      "\t b'SetLastError'\n",
      "\t b'VirtualProtect'\n",
      "\t b'IsBadReadPtr'\n",
      "\t b'HeapFree'\n",
      "\t b'SystemTimeToFileTime'\n",
      "\t b'LocalFileTimeToFileTime'\n",
      "\t b'CreateDirectoryA'\n",
      "\t b'GetStartupInfoA'\n",
      "\t b'SetFilePointer'\n",
      "\t b'SetFileTime'\n",
      "\t b'GetComputerNameW'\n",
      "\t b'GetCurrentDirectoryA'\n",
      "\t b'SetCurrentDirectoryA'\n",
      "\t b'GlobalAlloc'\n",
      "\t b'LoadLibraryA'\n",
      "\t b'GetProcAddress'\n",
      "\t b'GlobalFree'\n",
      "\t b'CreateProcessA'\n",
      "\t b'CloseHandle'\n",
      "\t b'WaitForSingleObject'\n",
      "\t b'TerminateProcess'\n",
      "\t b'GetExitCodeProcess'\n",
      "\t b'FindResourceA'\n",
      "LLAMADAS A DLL \t\n",
      "b'USER32.dll'\n",
      "LLAMADAS A FUNCIONES \t\n",
      "\t b'wsprintfA'\n",
      "LLAMADAS A DLL \t\n",
      "b'ADVAPI32.dll'\n",
      "LLAMADAS A FUNCIONES \t\n",
      "\t b'CreateServiceA'\n",
      "\t b'OpenServiceA'\n",
      "\t b'StartServiceA'\n",
      "\t b'CloseServiceHandle'\n",
      "\t b'CryptReleaseContext'\n",
      "\t b'RegCreateKeyW'\n",
      "\t b'RegSetValueExA'\n",
      "\t b'RegQueryValueExA'\n",
      "\t b'RegCloseKey'\n",
      "\t b'OpenSCManagerA'\n",
      "LLAMADAS A DLL \t\n",
      "b'MSVCRT.dll'\n",
      "LLAMADAS A FUNCIONES \t\n",
      "\t b'realloc'\n",
      "\t b'fclose'\n",
      "\t b'fwrite'\n",
      "\t b'fread'\n",
      "\t b'fopen'\n",
      "\t b'sprintf'\n",
      "\t b'rand'\n",
      "\t b'srand'\n",
      "\t b'strcpy'\n",
      "\t b'memset'\n",
      "\t b'strlen'\n",
      "\t b'wcscat'\n",
      "\t b'wcslen'\n",
      "\t b'__CxxFrameHandler'\n",
      "\t b'??3@YAXPAX@Z'\n",
      "\t b'memcmp'\n",
      "\t b'_except_handler3'\n",
      "\t b'_local_unwind2'\n",
      "\t b'wcsrchr'\n",
      "\t b'swprintf'\n",
      "\t b'??2@YAPAXI@Z'\n",
      "\t b'memcpy'\n",
      "\t b'strcmp'\n",
      "\t b'strrchr'\n",
      "\t b'__p___argv'\n",
      "\t b'__p___argc'\n",
      "\t b'_stricmp'\n",
      "\t b'free'\n",
      "\t b'malloc'\n",
      "\t b'??0exception@@QAE@ABV0@@Z'\n",
      "\t b'??1exception@@UAE@XZ'\n",
      "\t b'??0exception@@QAE@ABQBD@Z'\n",
      "\t b'_CxxThrowException'\n",
      "\t b'calloc'\n",
      "\t b'strcat'\n",
      "\t b'_mbsstr'\n",
      "\t b'??1type_info@@UAE@XZ'\n",
      "\t b'_exit'\n",
      "\t b'_XcptFilter'\n",
      "\t b'exit'\n",
      "\t b'_acmdln'\n",
      "\t b'__getmainargs'\n",
      "\t b'_initterm'\n",
      "\t b'__setusermatherr'\n",
      "\t b'_adjust_fdiv'\n",
      "\t b'__p__commode'\n",
      "\t b'__p__fmode'\n",
      "\t b'__set_app_type'\n",
      "\t b'_controlfp'\n"
     ]
    }
   ],
   "source": [
    "for entry in pe.DIRECTORY_ENTRY_IMPORT:\n",
    "    print('LLAMADAS A DLL \\t')\n",
    "    print (entry.dll)\n",
    "    print('LLAMADAS A FUNCIONES \\t')\n",
    "    for function in entry.imports:\n",
    "        print ('\\t', function.name)"
   ]
  },
  {
   "cell_type": "code",
   "execution_count": 9,
   "id": "1d15ff3b-9676-4ac2-9e0b-ea30ae93370c",
   "metadata": {
    "editable": true,
    "slideshow": {
     "slide_type": ""
    },
    "tags": []
   },
   "outputs": [
    {
     "name": "stdout",
     "output_type": "stream",
     "text": [
      "TimeDateStamp : Sat Nov 20 09:05:05 2010 UTC\n"
     ]
    }
   ],
   "source": [
    "print(\"TimeDateStamp : \" + pe.FILE_HEADER.dump_dict()['TimeDateStamp']['Value'].split('[')[1][:-1])"
   ]
  },
  {
   "cell_type": "code",
   "execution_count": null,
   "id": "12807ee1-d3f0-4de4-aa55-a236b8d27732",
   "metadata": {},
   "outputs": [],
   "source": []
  }
 ],
 "metadata": {
  "kernelspec": {
   "display_name": "Python 3 (ipykernel)",
   "language": "python",
   "name": "python3"
  },
  "language_info": {
   "codemirror_mode": {
    "name": "ipython",
    "version": 3
   },
   "file_extension": ".py",
   "mimetype": "text/x-python",
   "name": "python",
   "nbconvert_exporter": "python",
   "pygments_lexer": "ipython3",
   "version": "3.12.3"
  }
 },
 "nbformat": 4,
 "nbformat_minor": 5
}
