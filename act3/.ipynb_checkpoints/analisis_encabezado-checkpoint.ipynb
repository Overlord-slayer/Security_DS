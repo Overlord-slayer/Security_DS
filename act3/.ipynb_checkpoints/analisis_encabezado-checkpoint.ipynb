{
 "cells": [
  {
   "cell_type": "code",
   "execution_count": 1,
   "id": "099c0bf2-3f2f-45af-aadb-2165f3170e3d",
   "metadata": {},
   "outputs": [],
   "source": [
    "import pefile"
   ]
  },
  {
   "cell_type": "code",
   "execution_count": 4,
   "id": "bc4bf2a7-74e2-4017-8d45-ca9e959ff4c6",
   "metadata": {},
   "outputs": [],
   "source": [
    "pe = pefile.PE(\"sds2025.exe\")"
   ]
  },
  {
   "cell_type": "code",
   "execution_count": 5,
   "id": "340ae51e-37e8-4a63-a016-1269c1060f4b",
   "metadata": {},
   "outputs": [
    {
     "name": "stdout",
     "output_type": "stream",
     "text": [
      "SECCIONES \t\n",
      "b'.text\\x00\\x00\\x00' 0x1000 0x19d0 6656\n",
      "b'.data\\x00\\x00\\x00' 0x3000 0xf0 512\n",
      "b'.rdata\\x00\\x00' 0x4000 0x948 2560\n",
      "b'.pdata\\x00\\x00' 0x5000 0x258 1024\n",
      "b'.xdata\\x00\\x00' 0x6000 0x1d4 512\n",
      "b'.bss\\x00\\x00\\x00\\x00' 0x7000 0x180 0\n",
      "b'.idata\\x00\\x00' 0x8000 0x988 2560\n",
      "b'.tls\\x00\\x00\\x00\\x00' 0x9000 0x10 512\n",
      "b'.reloc\\x00\\x00' 0xa000 0x80 512\n",
      "b'/4\\x00\\x00\\x00\\x00\\x00\\x00' 0xb000 0x450 1536\n",
      "b'/19\\x00\\x00\\x00\\x00\\x00' 0xc000 0xbeb8 49152\n",
      "b'/31\\x00\\x00\\x00\\x00\\x00' 0x18000 0x2021 8704\n",
      "b'/45\\x00\\x00\\x00\\x00\\x00' 0x1b000 0x1e35 8192\n",
      "b'/57\\x00\\x00\\x00\\x00\\x00' 0x1d000 0x958 2560\n",
      "b'/70\\x00\\x00\\x00\\x00\\x00' 0x1e000 0x375 1024\n",
      "b'/81\\x00\\x00\\x00\\x00\\x00' 0x1f000 0x2137 8704\n",
      "b'/97\\x00\\x00\\x00\\x00\\x00' 0x22000 0x13e4 5120\n",
      "b'/113\\x00\\x00\\x00\\x00' 0x24000 0x18f 512\n"
     ]
    }
   ],
   "source": [
    "print('SECCIONES \\t')\n",
    "for section in pe.sections:\n",
    "    print(section.Name, hex(section.VirtualAddress), hex(section.Misc_VirtualSize), section.SizeOfRawData)"
   ]
  },
  {
   "cell_type": "code",
   "execution_count": 6,
   "id": "d0432464-4032-46a5-9503-faca5438bf72",
   "metadata": {
    "editable": true,
    "slideshow": {
     "slide_type": ""
    },
    "tags": []
   },
   "outputs": [
    {
     "name": "stdout",
     "output_type": "stream",
     "text": [
      "LLAMADAS A DLL \t\n",
      "b'KERNEL32.dll'\n",
      "LLAMADAS A FUNCIONES \t\n",
      "\t b'DeleteCriticalSection'\n",
      "\t b'EnterCriticalSection'\n",
      "\t b'GetLastError'\n",
      "\t b'InitializeCriticalSection'\n",
      "\t b'LeaveCriticalSection'\n",
      "\t b'SetUnhandledExceptionFilter'\n",
      "\t b'Sleep'\n",
      "\t b'TlsGetValue'\n",
      "\t b'VirtualProtect'\n",
      "\t b'VirtualQuery'\n",
      "LLAMADAS A DLL \t\n",
      "b'api-ms-win-crt-environment-l1-1-0.dll'\n",
      "LLAMADAS A FUNCIONES \t\n",
      "\t b'__p__environ'\n",
      "\t b'__p__wenviron'\n",
      "LLAMADAS A DLL \t\n",
      "b'api-ms-win-crt-heap-l1-1-0.dll'\n",
      "LLAMADAS A FUNCIONES \t\n",
      "\t b'_set_new_mode'\n",
      "\t b'calloc'\n",
      "\t b'free'\n",
      "\t b'malloc'\n",
      "LLAMADAS A DLL \t\n",
      "b'api-ms-win-crt-math-l1-1-0.dll'\n",
      "LLAMADAS A FUNCIONES \t\n",
      "\t b'__setusermatherr'\n",
      "LLAMADAS A DLL \t\n",
      "b'api-ms-win-crt-private-l1-1-0.dll'\n",
      "LLAMADAS A FUNCIONES \t\n",
      "\t b'__C_specific_handler'\n",
      "\t b'memcpy'\n",
      "LLAMADAS A DLL \t\n",
      "b'api-ms-win-crt-runtime-l1-1-0.dll'\n",
      "LLAMADAS A FUNCIONES \t\n",
      "\t b'__p___argc'\n",
      "\t b'__p___argv'\n",
      "\t b'__p___wargv'\n",
      "\t b'_cexit'\n",
      "\t b'_configure_narrow_argv'\n",
      "\t b'_configure_wide_argv'\n",
      "\t b'_crt_at_quick_exit'\n",
      "\t b'_crt_atexit'\n",
      "\t b'_exit'\n",
      "\t b'_initialize_narrow_environment'\n",
      "\t b'_initialize_wide_environment'\n",
      "\t b'_initterm'\n",
      "\t b'_set_app_type'\n",
      "\t b'_set_invalid_parameter_handler'\n",
      "\t b'abort'\n",
      "\t b'exit'\n",
      "\t b'signal'\n",
      "LLAMADAS A DLL \t\n",
      "b'api-ms-win-crt-stdio-l1-1-0.dll'\n",
      "LLAMADAS A FUNCIONES \t\n",
      "\t b'__acrt_iob_func'\n",
      "\t b'__p__commode'\n",
      "\t b'__p__fmode'\n",
      "\t b'__stdio_common_vfprintf'\n",
      "\t b'__stdio_common_vfwprintf'\n",
      "\t b'fwrite'\n",
      "\t b'puts'\n",
      "LLAMADAS A DLL \t\n",
      "b'api-ms-win-crt-string-l1-1-0.dll'\n",
      "LLAMADAS A FUNCIONES \t\n",
      "\t b'strlen'\n",
      "\t b'strncmp'\n",
      "LLAMADAS A DLL \t\n",
      "b'api-ms-win-crt-time-l1-1-0.dll'\n",
      "LLAMADAS A FUNCIONES \t\n",
      "\t b'__daylight'\n",
      "\t b'__timezone'\n",
      "\t b'__tzname'\n",
      "\t b'_tzset'\n"
     ]
    }
   ],
   "source": [
    "for entry in pe.DIRECTORY_ENTRY_IMPORT:\n",
    "    print('LLAMADAS A DLL \\t')\n",
    "    print (entry.dll)\n",
    "    print('LLAMADAS A FUNCIONES \\t')\n",
    "    for function in entry.imports:\n",
    "        print ('\\t', function.name)"
   ]
  },
  {
   "cell_type": "code",
   "execution_count": 7,
   "id": "1d15ff3b-9676-4ac2-9e0b-ea30ae93370c",
   "metadata": {
    "editable": true,
    "slideshow": {
     "slide_type": ""
    },
    "tags": []
   },
   "outputs": [
    {
     "name": "stdout",
     "output_type": "stream",
     "text": [
      "TimeDateStamp : Sat Feb 15 01:20:25 2025 UTC\n"
     ]
    }
   ],
   "source": [
    "print(\"TimeDateStamp : \" + pe.FILE_HEADER.dump_dict()['TimeDateStamp']['Value'].split('[')[1][:-1])"
   ]
  },
  {
   "cell_type": "code",
   "execution_count": null,
   "id": "12807ee1-d3f0-4de4-aa55-a236b8d27732",
   "metadata": {},
   "outputs": [],
   "source": []
  }
 ],
 "metadata": {
  "kernelspec": {
   "display_name": "Python 3 (ipykernel)",
   "language": "python",
   "name": "python3"
  },
  "language_info": {
   "codemirror_mode": {
    "name": "ipython",
    "version": 3
   },
   "file_extension": ".py",
   "mimetype": "text/x-python",
   "name": "python",
   "nbconvert_exporter": "python",
   "pygments_lexer": "ipython3",
   "version": "3.9.6"
  }
 },
 "nbformat": 4,
 "nbformat_minor": 5
}
