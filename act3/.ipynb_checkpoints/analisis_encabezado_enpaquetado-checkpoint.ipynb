{
 "cells": [
  {
   "cell_type": "code",
   "execution_count": 1,
   "id": "099c0bf2-3f2f-45af-aadb-2165f3170e3d",
   "metadata": {},
   "outputs": [],
   "source": [
    "import pefile"
   ]
  },
  {
   "cell_type": "code",
   "execution_count": 2,
   "id": "bc4bf2a7-74e2-4017-8d45-ca9e959ff4c6",
   "metadata": {},
   "outputs": [],
   "source": [
    "pe = pefile.PE(\"sds2025_packed.exe\")"
   ]
  },
  {
   "cell_type": "code",
   "execution_count": 3,
   "id": "340ae51e-37e8-4a63-a016-1269c1060f4b",
   "metadata": {},
   "outputs": [
    {
     "name": "stdout",
     "output_type": "stream",
     "text": [
      "SECCIONES \t\n",
      "b'UPX0\\x00\\x00\\x00\\x00' 0x1000 0x1d000 0\n",
      "b'UPX1\\x00\\x00\\x00\\x00' 0x1e000 0xa000 37376\n",
      "b'UPX2\\x00\\x00\\x00\\x00' 0x28000 0x1000 1024\n"
     ]
    }
   ],
   "source": [
    "print('SECCIONES \\t')\n",
    "for section in pe.sections:\n",
    "    print(section.Name, hex(section.VirtualAddress), hex(section.Misc_VirtualSize), section.SizeOfRawData)"
   ]
  },
  {
   "cell_type": "code",
   "execution_count": 4,
   "id": "d0432464-4032-46a5-9503-faca5438bf72",
   "metadata": {},
   "outputs": [
    {
     "name": "stdout",
     "output_type": "stream",
     "text": [
      "LLAMADAS A DLL \t\n",
      "b'api-ms-win-crt-environment-l1-1-0.dll'\n",
      "LLAMADAS A FUNCIONES \t\n",
      "\t b'__p__environ'\n",
      "LLAMADAS A DLL \t\n",
      "b'api-ms-win-crt-heap-l1-1-0.dll'\n",
      "LLAMADAS A FUNCIONES \t\n",
      "\t b'free'\n",
      "LLAMADAS A DLL \t\n",
      "b'api-ms-win-crt-math-l1-1-0.dll'\n",
      "LLAMADAS A FUNCIONES \t\n",
      "\t b'__setusermatherr'\n",
      "LLAMADAS A DLL \t\n",
      "b'api-ms-win-crt-private-l1-1-0.dll'\n",
      "LLAMADAS A FUNCIONES \t\n",
      "\t b'memcpy'\n",
      "LLAMADAS A DLL \t\n",
      "b'api-ms-win-crt-runtime-l1-1-0.dll'\n",
      "LLAMADAS A FUNCIONES \t\n",
      "\t b'exit'\n",
      "LLAMADAS A DLL \t\n",
      "b'api-ms-win-crt-stdio-l1-1-0.dll'\n",
      "LLAMADAS A FUNCIONES \t\n",
      "\t b'puts'\n",
      "LLAMADAS A DLL \t\n",
      "b'api-ms-win-crt-string-l1-1-0.dll'\n",
      "LLAMADAS A FUNCIONES \t\n",
      "\t b'strlen'\n",
      "LLAMADAS A DLL \t\n",
      "b'api-ms-win-crt-time-l1-1-0.dll'\n",
      "LLAMADAS A FUNCIONES \t\n",
      "\t b'_tzset'\n",
      "LLAMADAS A DLL \t\n",
      "b'KERNEL32.DLL'\n",
      "LLAMADAS A FUNCIONES \t\n",
      "\t b'LoadLibraryA'\n",
      "\t b'ExitProcess'\n",
      "\t b'GetProcAddress'\n",
      "\t b'VirtualProtect'\n"
     ]
    }
   ],
   "source": [
    "for entry in pe.DIRECTORY_ENTRY_IMPORT:\n",
    "    print('LLAMADAS A DLL \\t')\n",
    "    print (entry.dll)\n",
    "    print('LLAMADAS A FUNCIONES \\t')\n",
    "    for function in entry.imports:\n",
    "        print ('\\t', function.name)"
   ]
  },
  {
   "cell_type": "code",
   "execution_count": 5,
   "id": "1d15ff3b-9676-4ac2-9e0b-ea30ae93370c",
   "metadata": {
    "editable": true,
    "slideshow": {
     "slide_type": ""
    },
    "tags": []
   },
   "outputs": [
    {
     "name": "stdout",
     "output_type": "stream",
     "text": [
      "TimeDateStamp : Sat Feb 15 01:20:25 2025 UTC\n"
     ]
    }
   ],
   "source": [
    "print(\"TimeDateStamp : \" + pe.FILE_HEADER.dump_dict()['TimeDateStamp']['Value'].split('[')[1][:-1])"
   ]
  },
  {
   "cell_type": "code",
   "execution_count": null,
   "id": "12807ee1-d3f0-4de4-aa55-a236b8d27732",
   "metadata": {},
   "outputs": [],
   "source": []
  }
 ],
 "metadata": {
  "kernelspec": {
   "display_name": "Python 3 (ipykernel)",
   "language": "python",
   "name": "python3"
  },
  "language_info": {
   "codemirror_mode": {
    "name": "ipython",
    "version": 3
   },
   "file_extension": ".py",
   "mimetype": "text/x-python",
   "name": "python",
   "nbconvert_exporter": "python",
   "pygments_lexer": "ipython3",
   "version": "3.9.6"
  }
 },
 "nbformat": 4,
 "nbformat_minor": 5
}
