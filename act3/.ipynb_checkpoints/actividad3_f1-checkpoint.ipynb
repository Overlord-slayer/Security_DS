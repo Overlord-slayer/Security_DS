{
 "cells": [
  {
   "cell_type": "markdown",
   "id": "14220c29-3322-4a7b-aef7-acb63103426e",
   "metadata": {},
   "source": [
    "# Análisis estático\n",
    "\n",
    "# ARCHIVO 1 sample_vg655_25th.exe\n",
    "\n",
    "### Realice un análisis de los ejecutables proporcionado. Responda las siguientes preguntas y muestre evidencia de los pasos:"
   ]
  },
  {
   "cell_type": "markdown",
   "id": "b433903d-7324-4bef-be4b-dc8992ddbb1f",
   "metadata": {},
   "source": [
    "### 1. ¿Se encuentran empaquetados los ejecutable? ¿Cómo lo puede determinar? (en caso positivo, desempaquetelos)"
   ]
  },
  {
   "cell_type": "markdown",
   "id": "4f9a1c7b-004d-462c-b473-5b86a8c46229",
   "metadata": {},
   "source": [
    " argher    \\Documents\\uvg\\Security_DS\\act3\\examples  ➜ (  main)   2ms   9:12 PM   \n",
    " ⚡arg ❯❯ upx -t sample_vg655_25th.exe \n",
    "                       Ultimate Packer for eXecutables\n",
    "                          Copyright (C) 1996 - 2024\n",
    "UPX 4.2.2       Markus Oberhumer, Laszlo Molnar & John Reiser    Jan 3rd 2024\n",
    "\n",
    "upx: sample_vg655_25th.exe: NotPackedException: not packed by UPX\n",
    "\n",
    "Tested 0 files.\n",
    "\n",
    "- No esta empaquetado via UPX"
   ]
  },
  {
   "cell_type": "code",
   "execution_count": 1,
   "id": "a09147b1-f8cb-4092-915f-0763058145d9",
   "metadata": {},
   "outputs": [],
   "source": [
    "import pefile\n",
    "import capstone"
   ]
  },
  {
   "cell_type": "code",
   "execution_count": 2,
   "id": "91f9a3bf-b83c-42be-954f-e203a3a1518b",
   "metadata": {},
   "outputs": [
    {
     "name": "stdout",
     "output_type": "stream",
     "text": [
      "Sección: .text\u0000\u0000\u0000\n",
      "  Tamaño en disco: 28672\n",
      "  Tamaño en memoria: 27056\n",
      "Sección: .rdata\u0000\u0000\n",
      "  Tamaño en disco: 24576\n",
      "  Tamaño en memoria: 24432\n",
      "Sección: .data\u0000\u0000\u0000\n",
      "  Tamaño en disco: 8192\n",
      "  Tamaño en memoria: 6488\n",
      "Sección: .rsrc\u0000\u0000\u0000\n",
      "  Tamaño en disco: 3448832\n",
      "  Tamaño en memoria: 3448736\n",
      "Pocas importaciones detectadas. Podría estar empaquetado.\n"
     ]
    }
   ],
   "source": [
    "pe = pefile.PE(\"./examples/sample_vg655_25th.exe\")\n",
    "\n",
    "# Verificar si hay UPX en las secciones\n",
    "for section in pe.sections:\n",
    "    print(f\"Sección: {section.Name.decode().strip()}\")\n",
    "    print(f\"  Tamaño en disco: {section.SizeOfRawData}\")\n",
    "    print(f\"  Tamaño en memoria: {section.Misc_VirtualSize}\")\n",
    "\n",
    "    # Detectar UPX\n",
    "    if b\"UPX\" in section.Name:\n",
    "        print(\"Posible empaquetamiento con UPX detectado.\")\n",
    "\n",
    "# Verificar importaciones sospechosas\n",
    "if not hasattr(pe, 'DIRECTORY_ENTRY_IMPORT') or len(pe.DIRECTORY_ENTRY_IMPORT) < 5:\n",
    "    print(\"Pocas importaciones detectadas. Podría estar empaquetado.\")\n"
   ]
  },
  {
   "cell_type": "code",
   "execution_count": 3,
   "id": "7c603129-de3c-425b-9ba5-6802df574ad2",
   "metadata": {},
   "outputs": [
    {
     "name": "stdout",
     "output_type": "stream",
     "text": [
      "Código ensamblador en el Entry Point:\n",
      "0x4077ba: push ebp\n",
      "0x4077bb: mov ebp, esp\n",
      "0x4077bd: push -1\n",
      "0x4077bf: push 0x40d488\n",
      "0x4077c4: push 0x4076f4\n",
      "0x4077c9: mov eax, dword ptr fs:[0]\n",
      "0x4077cf: push eax\n",
      "0x4077d0: mov dword ptr fs:[0], esp\n",
      "0x4077d7: sub esp, 0x68\n"
     ]
    }
   ],
   "source": [
    "pe = pefile.PE(\"./examples/sample_vg655_25th.exe\")\n",
    "\n",
    "entry_point = pe.OPTIONAL_HEADER.AddressOfEntryPoint\n",
    "image_base = pe.OPTIONAL_HEADER.ImageBase\n",
    "\n",
    "code_section = None\n",
    "for section in pe.sections:\n",
    "    if entry_point >= section.VirtualAddress and entry_point < (section.VirtualAddress + section.Misc_VirtualSize):\n",
    "        code_section = section\n",
    "        break\n",
    "\n",
    "if code_section:\n",
    "    offset = entry_point - code_section.VirtualAddress\n",
    "    raw_data = code_section.get_data()[offset:offset+32]  # Leer las primeras 32 bytes\n",
    "    md = capstone.Cs(capstone.CS_ARCH_X86, capstone.CS_MODE_32)  # Para ejecutables de 32 bits\n",
    "\n",
    "    print(\"Código ensamblador en el Entry Point:\")\n",
    "    for i in md.disasm(raw_data, image_base + entry_point):\n",
    "        print(f\"0x{i.address:x}: {i.mnemonic} {i.op_str}\")\n"
   ]
  },
  {
   "cell_type": "markdown",
   "id": "a86c3764-9eeb-4759-bb7f-51e591baf468",
   "metadata": {},
   "source": [
    "### 2. Muestra una lista de las DLLs y funciones utilizadas. Lea el artículo Descargar artículo \"Malware classification based on API calls and behaviour analysis.\" Compare la tabla 3 contra las funciones de los ejecutables. ¿Hay indicios de algún comportamiento malicioso en base a la comparación? Justifique su respuesta.\n",
    "\n",
    "Se observaron estas actividades, en base a la tabla 3.\n",
    "\n",
    "    Process Hollowing: CreateProcessA, GetModuleHandleA, GetProcAddress, VirtualAlloc son funciones clave para inyectar código en otro proceso.\n",
    "    Drop de archivos desde la sección de recursos: FindResourceA, LoadResource, CreateFileA indican que el ejecutable podría estar extrayendo y escribiendo archivos desde su sección de recursos.\n",
    "    IAT Hooking: GetModuleHandleA, strcmp, VirtualProtect podrían indicar modificación de la tabla de importaciones para ocultar funciones maliciosas.\n",
    "    Autodestrucción: GetModuleFileNameA, ExitProcess podrían ser parte de un mecanismo de autodestrucción.\n",
    "\n",
    "No hay evidencia directa de comunicación en red, pero esto no significa que el malware no tenga otras técnicas para evadir detección.\n"
   ]
  },
  {
   "cell_type": "code",
   "execution_count": 4,
   "id": "695fdce4-803a-4fe2-a0de-d74af19b3fd7",
   "metadata": {},
   "outputs": [
    {
     "name": "stdout",
     "output_type": "stream",
     "text": [
      "\n",
      "DLLs y funciones importadas:\n",
      "\n",
      "KERNEL32.dll\n",
      "   └─ GetFileAttributesW\n",
      "   └─ GetFileSizeEx\n",
      "   └─ CreateFileA\n",
      "   └─ InitializeCriticalSection\n",
      "   └─ DeleteCriticalSection\n",
      "   └─ ReadFile\n",
      "   └─ GetFileSize\n",
      "   └─ WriteFile\n",
      "   └─ LeaveCriticalSection\n",
      "   └─ EnterCriticalSection\n",
      "   └─ SetFileAttributesW\n",
      "   └─ SetCurrentDirectoryW\n",
      "   └─ CreateDirectoryW\n",
      "   └─ GetTempPathW\n",
      "   └─ GetWindowsDirectoryW\n",
      "   └─ GetFileAttributesA\n",
      "   └─ SizeofResource\n",
      "   └─ LockResource\n",
      "   └─ LoadResource\n",
      "   └─ MultiByteToWideChar\n",
      "   └─ Sleep\n",
      "   └─ OpenMutexA\n",
      "   └─ GetFullPathNameA\n",
      "   └─ CopyFileA\n",
      "   └─ GetModuleFileNameA\n",
      "   └─ VirtualAlloc\n",
      "   └─ VirtualFree\n",
      "   └─ FreeLibrary\n",
      "   └─ HeapAlloc\n",
      "   └─ GetProcessHeap\n",
      "   └─ GetModuleHandleA\n",
      "   └─ SetLastError\n",
      "   └─ VirtualProtect\n",
      "   └─ IsBadReadPtr\n",
      "   └─ HeapFree\n",
      "   └─ SystemTimeToFileTime\n",
      "   └─ LocalFileTimeToFileTime\n",
      "   └─ CreateDirectoryA\n",
      "   └─ GetStartupInfoA\n",
      "   └─ SetFilePointer\n",
      "   └─ SetFileTime\n",
      "   └─ GetComputerNameW\n",
      "   └─ GetCurrentDirectoryA\n",
      "   └─ SetCurrentDirectoryA\n",
      "   └─ GlobalAlloc\n",
      "   └─ LoadLibraryA\n",
      "   └─ GetProcAddress\n",
      "   └─ GlobalFree\n",
      "   └─ CreateProcessA\n",
      "   └─ CloseHandle\n",
      "   └─ WaitForSingleObject\n",
      "   └─ TerminateProcess\n",
      "   └─ GetExitCodeProcess\n",
      "   └─ FindResourceA\n",
      "\n",
      "USER32.dll\n",
      "   └─ wsprintfA\n",
      "\n",
      "ADVAPI32.dll\n",
      "   └─ CreateServiceA\n",
      "   └─ OpenServiceA\n",
      "   └─ StartServiceA\n",
      "   └─ CloseServiceHandle\n",
      "   └─ CryptReleaseContext\n",
      "   └─ RegCreateKeyW\n",
      "   └─ RegSetValueExA\n",
      "   └─ RegQueryValueExA\n",
      "   └─ RegCloseKey\n",
      "   └─ OpenSCManagerA\n",
      "\n",
      "MSVCRT.dll\n",
      "   └─ realloc\n",
      "   └─ fclose\n",
      "   └─ fwrite\n",
      "   └─ fread\n",
      "   └─ fopen\n",
      "   └─ sprintf\n",
      "   └─ rand\n",
      "   └─ srand\n",
      "   └─ strcpy\n",
      "   └─ memset\n",
      "   └─ strlen\n",
      "   └─ wcscat\n",
      "   └─ wcslen\n",
      "   └─ __CxxFrameHandler\n",
      "   └─ ??3@YAXPAX@Z\n",
      "   └─ memcmp\n",
      "   └─ _except_handler3\n",
      "   └─ _local_unwind2\n",
      "   └─ wcsrchr\n",
      "   └─ swprintf\n",
      "   └─ ??2@YAPAXI@Z\n",
      "   └─ memcpy\n",
      "   └─ strcmp\n",
      "   └─ strrchr\n",
      "   └─ __p___argv\n",
      "   └─ __p___argc\n",
      "   └─ _stricmp\n",
      "   └─ free\n",
      "   └─ malloc\n",
      "   └─ ??0exception@@QAE@ABV0@@Z\n",
      "   └─ ??1exception@@UAE@XZ\n",
      "   └─ ??0exception@@QAE@ABQBD@Z\n",
      "   └─ _CxxThrowException\n",
      "   └─ calloc\n",
      "   └─ strcat\n",
      "   └─ _mbsstr\n",
      "   └─ ??1type_info@@UAE@XZ\n",
      "   └─ _exit\n",
      "   └─ _XcptFilter\n",
      "   └─ exit\n",
      "   └─ _acmdln\n",
      "   └─ __getmainargs\n",
      "   └─ _initterm\n",
      "   └─ __setusermatherr\n",
      "   └─ _adjust_fdiv\n",
      "   └─ __p__commode\n",
      "   └─ __p__fmode\n",
      "   └─ __set_app_type\n",
      "   └─ _controlfp\n"
     ]
    }
   ],
   "source": [
    "exe_path = \"./examples/sample_vg655_25th.exe\"  # Cambia por el nombre real del ejecutable\n",
    "\n",
    "pe = pefile.PE(exe_path)\n",
    "\n",
    "print(\"\\nDLLs y funciones importadas:\")\n",
    "for entry in pe.DIRECTORY_ENTRY_IMPORT:\n",
    "    print(f\"\\n{entry.dll.decode()}\")\n",
    "    for imp in entry.imports:\n",
    "        print(f\"   └─ {imp.name.decode() if imp.name else 'ORDINAL ' + str(imp.ordinal)}\")\n"
   ]
  },
  {
   "cell_type": "code",
   "execution_count": 5,
   "id": "e6feb63d-12a7-42c5-a6ac-fd8dd354c21b",
   "metadata": {},
   "outputs": [
    {
     "name": "stdout",
     "output_type": "stream",
     "text": [
      "📅 El ejecutable fue compilado el: 2010-11-20 09:05:05\n"
     ]
    },
    {
     "name": "stderr",
     "output_type": "stream",
     "text": [
      "/tmp/ipykernel_13429/1544746521.py:5: DeprecationWarning: datetime.datetime.utcfromtimestamp() is deprecated and scheduled for removal in a future version. Use timezone-aware objects to represent datetimes in UTC: datetime.datetime.fromtimestamp(timestamp, datetime.UTC).\n",
      "  compilation_date = datetime.datetime.utcfromtimestamp(timestamp)\n"
     ]
    }
   ],
   "source": [
    "import datetime\n",
    "\n",
    "# Extraer timestamp de compilación\n",
    "timestamp = pe.FILE_HEADER.TimeDateStamp\n",
    "compilation_date = datetime.datetime.utcfromtimestamp(timestamp)\n",
    "\n",
    "# Mostrar resultado\n",
    "print(f\"📅 El ejecutable fue compilado el: {compilation_date}\")\n"
   ]
  },
  {
   "cell_type": "markdown",
   "id": "7c32937d-52d2-44e2-ba00-8bf07a9daef5",
   "metadata": {},
   "source": [
    "### 3. ¿Cuándo fueron compilados los ejecutable?\n",
    "En este caso, se observa que la fecha de compilacion es igual o mayor a 15 años."
   ]
  },
  {
   "cell_type": "markdown",
   "id": "9048a090-9ca3-4569-b116-47f7c128d2d1",
   "metadata": {},
   "source": [
    "### 4. Obtenga el código ensamblador aplicando ingeniería inversa de ambos ejecutables"
   ]
  },
  {
   "cell_type": "code",
   "execution_count": 6,
   "id": "93098d68-e1f4-4407-8ae0-c422139c3e4a",
   "metadata": {},
   "outputs": [
    {
     "name": "stdout",
     "output_type": "stream",
     "text": [
      "\n",
      "Código ensamblador en el Entry Point:\n",
      "0x4077ba: push ebp\n",
      "0x4077bb: mov ebp, esp\n",
      "0x4077bd: push -1\n",
      "0x4077bf: push 0x40d488\n",
      "0x4077c4: push 0x4076f4\n",
      "0x4077c9: mov eax, dword ptr fs:[0]\n",
      "0x4077cf: push eax\n",
      "0x4077d0: mov dword ptr fs:[0], esp\n",
      "0x4077d7: sub esp, 0x68\n",
      "0x4077da: push ebx\n",
      "0x4077db: push esi\n",
      "0x4077dc: push edi\n",
      "0x4077dd: mov dword ptr [ebp - 0x18], esp\n",
      "0x4077e0: xor ebx, ebx\n",
      "0x4077e2: mov dword ptr [ebp - 4], ebx\n",
      "0x4077e5: push 2\n",
      "0x4077e7: call dword ptr [0x4081c4]\n",
      "0x4077ed: pop ecx\n",
      "0x4077ee: or dword ptr [0x40f94c], 0xffffffff\n"
     ]
    }
   ],
   "source": [
    "entry_point = pe.OPTIONAL_HEADER.AddressOfEntryPoint\n",
    "image_base = pe.OPTIONAL_HEADER.ImageBase\n",
    "\n",
    "code_section = None\n",
    "for section in pe.sections:\n",
    "    if entry_point >= section.VirtualAddress and entry_point < (section.VirtualAddress + section.Misc_VirtualSize):\n",
    "        code_section = section\n",
    "        break\n",
    "\n",
    "if code_section:\n",
    "    offset = entry_point - code_section.VirtualAddress\n",
    "    raw_data = code_section.get_data()[offset:offset+64]  # Leer primeras 64 bytes\n",
    "    md = capstone.Cs(capstone.CS_ARCH_X86, capstone.CS_MODE_32)  # Cambia a CS_MODE_64 si es 64 bits\n",
    "\n",
    "    print(\"\\nCódigo ensamblador en el Entry Point:\")\n",
    "    for i in md.disasm(raw_data, image_base + entry_point):\n",
    "        print(f\"0x{i.address:x}: {i.mnemonic} {i.op_str}\")\n"
   ]
  },
  {
   "cell_type": "markdown",
   "id": "e95d8eaa-8e6e-4e1f-9ebf-5ac44c95aefe",
   "metadata": {},
   "source": [
    "# ARCHIVO 2 sample_qwrty_dk2"
   ]
  },
  {
   "cell_type": "code",
   "execution_count": null,
   "id": "fd88da3f-7128-4046-b30d-9997c0c716b9",
   "metadata": {},
   "outputs": [],
   "source": []
  }
 ],
 "metadata": {
  "kernelspec": {
   "display_name": "Python 3 (ipykernel)",
   "language": "python",
   "name": "python3"
  },
  "language_info": {
   "codemirror_mode": {
    "name": "ipython",
    "version": 3
   },
   "file_extension": ".py",
   "mimetype": "text/x-python",
   "name": "python",
   "nbconvert_exporter": "python",
   "pygments_lexer": "ipython3",
   "version": "3.12.3"
  }
 },
 "nbformat": 4,
 "nbformat_minor": 5
}
