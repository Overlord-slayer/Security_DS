{
 "cells": [
  {
   "cell_type": "code",
   "execution_count": null,
   "id": "63eb647d-3c15-4824-9670-7a70f78cba6f",
   "metadata": {},
   "outputs": [],
   "source": [
    "import os\n",
    "import numpy as np\n",
    "import pandas as pd\n",
    "import matplotlib.pyplot as plt\n",
    "import seaborn as sns\n",
    "from pathlib import Path\n",
    "\n",
    "from sklearn.metrics import classification_report, confusion_matrix\n",
    "from sklearn.utils.multiclass import unique_labels\n",
    "\n",
    "import tensorflow as tf\n",
    "from tensorflow.keras.models import Sequential\n",
    "from tensorflow.keras.layers import (Conv2D, MaxPooling2D, Flatten,\n",
    "                                     Dense, Dropout, BatchNormalization)\n",
    "from tensorflow.keras.preprocessing.image import ImageDataGenerator\n",
    "from tensorflow.keras.callbacks import EarlyStopping"
   ]
  },
  {
   "cell_type": "code",
   "execution_count": null,
   "id": "0da6fe01-5e43-4ccd-b34e-9114992bbabd",
   "metadata": {},
   "outputs": [],
   "source": [
    "# ===  Ruta del dataset ===\n",
    "DATASET_DIR = Path('./malimg_dataset/malimg_paper_dataset_imgs')\n",
    "\n",
    "# === Preprocesamiento de datos ===\n",
    "filepaths = list(DATASET_DIR.glob('**/*.png'))\n",
    "labels = [p.parent.name for p in filepaths]\n",
    "\n",
    "df = pd.DataFrame({\n",
    "    'filepath': filepaths,\n",
    "    'label': labels\n",
    "})\n",
    "df['filepath'] = df['filepath'].astype(str)\n",
    "\n",
    "# Filtrar clases con menos de 100 muestras\n",
    "df = df.groupby('label').filter(lambda x: len(x) >= 100)\n",
    "\n",
    "# Mostrar clases y conteo\n",
    "print(f\"Total de imágenes: {len(df)}\")\n",
    "print(f\"Familias únicas: {df['label'].nunique()}\")\n",
    "print(df['label'].value_counts())\n"
   ]
  },
  {
   "cell_type": "code",
   "execution_count": null,
   "id": "f892f899-08e9-41d6-aa1b-15014c79e940",
   "metadata": {},
   "outputs": [],
   "source": [
    "# === Visualizar algunas imágenes de ejemplo ===\n",
    "fig, axes = plt.subplots(3, 5, figsize=(20, 12))\n",
    "for ax, (idx, row) in zip(axes.flatten(), df.sample(15).iterrows()):\n",
    "    img = plt.imread(row['filepath'])\n",
    "    ax.imshow(img, cmap='gray')\n",
    "    ax.set_title(row['label'], fontsize=9)\n",
    "    ax.axis('off')\n",
    "plt.tight_layout()\n",
    "plt.show()\n"
   ]
  },
  {
   "cell_type": "code",
   "execution_count": null,
   "id": "0dca5bb2-6e8a-466d-abf4-72c860371016",
   "metadata": {},
   "outputs": [],
   "source": [
    "# === Preparación de datos ===\n",
    "IMG_SIZE = (128, 128)\n",
    "\n",
    "train_datagen = ImageDataGenerator(\n",
    "    rescale=1./255,\n",
    "    validation_split=0.3,\n",
    "    rotation_range=10,\n",
    "    width_shift_range=0.1,\n",
    "    height_shift_range=0.1,\n",
    "    horizontal_flip=True\n",
    ")\n",
    "\n",
    "train_generator = train_datagen.flow_from_dataframe(\n",
    "    df,\n",
    "    x_col='filepath',\n",
    "    y_col='label',\n",
    "    target_size=IMG_SIZE,\n",
    "    batch_size=32,\n",
    "    class_mode='categorical',\n",
    "    subset='training',\n",
    "    shuffle=True\n",
    ")\n",
    "\n",
    "valid_generator = train_datagen.flow_from_dataframe(\n",
    "    df,\n",
    "    x_col='filepath',\n",
    "    y_col='label',\n",
    "    target_size=IMG_SIZE,\n",
    "    batch_size=32,\n",
    "    class_mode='categorical',\n",
    "    subset='validation',\n",
    "    shuffle=False\n",
    ")"
   ]
  },
  {
   "cell_type": "code",
   "execution_count": null,
   "id": "051c1d81-1b0b-48a6-b0b3-0903375968b9",
   "metadata": {},
   "outputs": [],
   "source": [
    "# === Construcción del modelo CNN ===\n",
    "model = Sequential([\n",
    "    Conv2D(32, (3,3), activation='relu', input_shape=(128, 128, 3)),\n",
    "    BatchNormalization(),\n",
    "    MaxPooling2D(2,2),\n",
    "\n",
    "    Conv2D(64, (3,3), activation='relu'),\n",
    "    BatchNormalization(),\n",
    "    MaxPooling2D(2,2),\n",
    "\n",
    "    Conv2D(128, (3,3), activation='relu'),\n",
    "    BatchNormalization(),\n",
    "    MaxPooling2D(2,2),\n",
    "\n",
    "    Flatten(),\n",
    "    Dense(128, activation='relu'),\n",
    "    Dropout(0.5),\n",
    "    Dense(len(train_generator.class_indices), activation='softmax')\n",
    "])\n",
    "\n",
    "model.summary()"
   ]
  },
  {
   "cell_type": "code",
   "execution_count": null,
   "id": "7fd53d2e-1005-4038-9031-3ca8d299459b",
   "metadata": {},
   "outputs": [],
   "source": [
    "# === Compilación ===\n",
    "model.compile(optimizer='adam', loss='categorical_crossentropy', metrics=['accuracy'])\n"
   ]
  },
  {
   "cell_type": "code",
   "execution_count": null,
   "id": "6f1dbbf5-741f-48c8-a9de-7f8c7b295d75",
   "metadata": {},
   "outputs": [],
   "source": [
    "# === Entrenamiento con EarlyStopping ===\n",
    "early = EarlyStopping(patience=5, restore_best_weights=True)\n",
    "history = model.fit(\n",
    "    train_generator,\n",
    "    validation_data=valid_generator,\n",
    "    epochs=50,\n",
    "    callbacks=[early]\n",
    ")\n"
   ]
  },
  {
   "cell_type": "code",
   "execution_count": null,
   "id": "4bf71a65-ba56-4a95-b7dd-9a59a3f7a491",
   "metadata": {},
   "outputs": [],
   "source": [
    "# === Evaluación ===\n",
    "val_loss, val_accuracy = model.evaluate(valid_generator)\n",
    "print(f\"Loss en validación: {val_loss:.4f}\")\n",
    "print(f\"Accuracy en validación: {val_accuracy:.4f}\")\n"
   ]
  },
  {
   "cell_type": "code",
   "execution_count": null,
   "id": "1871a11f-aa2d-4b35-b83a-aad72b19913d",
   "metadata": {},
   "outputs": [],
   "source": [
    "# ===  Métricas ===\n",
    "y_pred = model.predict(valid_generator)\n",
    "y_pred_classes = np.argmax(y_pred, axis=1)\n",
    "y_true = valid_generator.classes\n",
    "\n",
    "labels_presentes = unique_labels(y_true, y_pred_classes)\n",
    "nombres_presentes = [k for k, v in valid_generator.class_indices.items() if v in labels_presentes]\n",
    "\n",
    "print(classification_report(y_true, y_pred_classes, target_names=nombres_presentes))\n",
    "\n",
    "conf_mat = confusion_matrix(y_true, y_pred_classes)\n",
    "plt.figure(figsize=(12,10))\n",
    "sns.heatmap(conf_mat, annot=False, cmap='Blues')\n",
    "plt.title('Matriz de Confusión')\n",
    "plt.xlabel('Predicho')\n",
    "plt.ylabel('Real')\n",
    "plt.show()"
   ]
  },
  {
   "cell_type": "code",
   "execution_count": null,
   "id": "3e5c3b79-6101-4f20-afdf-c4b495f8f001",
   "metadata": {},
   "outputs": [],
   "source": [
    "# === Gráficas de entrenamiento ===\n",
    "plt.figure(figsize=(10,4))\n",
    "plt.subplot(1, 2, 1)\n",
    "plt.plot(history.history['accuracy'], label='Entrenamiento')\n",
    "plt.plot(history.history['val_accuracy'], label='Validación')\n",
    "plt.title('Precisión')\n",
    "plt.legend()\n",
    "\n",
    "plt.subplot(1, 2, 2)\n",
    "plt.plot(history.history['loss'], label='Entrenamiento')\n",
    "plt.plot(history.history['val_loss'], label='Validación')\n",
    "plt.title('Pérdida')\n",
    "plt.legend()\n",
    "plt.tight_layout()\n",
    "plt.show()\n"
   ]
  },
  {
   "cell_type": "code",
   "execution_count": null,
   "id": "00cb2b82-447e-43d3-9121-9398c478aafe",
   "metadata": {},
   "outputs": [],
   "source": []
  }
 ],
 "metadata": {
  "kernelspec": {
   "display_name": "Python 3 (ipykernel)",
   "language": "python",
   "name": "python3"
  },
  "language_info": {
   "codemirror_mode": {
    "name": "ipython",
    "version": 3
   },
   "file_extension": ".py",
   "mimetype": "text/x-python",
   "name": "python",
   "nbconvert_exporter": "python",
   "pygments_lexer": "ipython3",
   "version": "3.12.3"
  }
 },
 "nbformat": 4,
 "nbformat_minor": 5
}
