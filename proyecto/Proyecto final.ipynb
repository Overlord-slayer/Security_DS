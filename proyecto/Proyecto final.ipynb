{
 "cells": [
  {
   "cell_type": "markdown",
   "id": "f4fcd74d-6153-4f86-b74f-08bef5263ad9",
   "metadata": {},
   "source": [
    "# Objetivos\n",
    "- Reducir falsos positivos en perfiles con transacciones complejas\n",
    "- Evitar alertas innecesarias en clientes con comportamiento legítimo pero no convencional."
   ]
  },
  {
   "cell_type": "code",
   "execution_count": 1,
   "id": "55c217e3-8688-49da-90fc-835c08bfa2c2",
   "metadata": {},
   "outputs": [],
   "source": [
    "import pandas as pd\n",
    "import seaborn as sns\n",
    "import numpy as np\n",
    "import matplotlib.pyplot as plt\n",
    "import lightgbm as lgb\n",
    "from sklearn.metrics import classification_report, confusion_matrix \n",
    "from sklearn.decomposition import PCA\n",
    "from sklearn.preprocessing import StandardScaler"
   ]
  },
  {
   "cell_type": "markdown",
   "id": "6e68e2c5-dd0d-457a-aba5-b11b7b7f25af",
   "metadata": {},
   "source": [
    "# EDA"
   ]
  },
  {
   "cell_type": "code",
   "execution_count": null,
   "id": "63329295-ffd9-4d02-804e-7bdbe4e4dbde",
   "metadata": {},
   "outputs": [],
   "source": [
    "df = pd.read_csv(\"feature_engineering_work/dataset_feature_engineering.csv\")\n",
    "df"
   ]
  },
  {
   "cell_type": "code",
   "execution_count": null,
   "id": "c3f004e3-5a51-40bc-8750-b4099172861e",
   "metadata": {},
   "outputs": [],
   "source": [
    "df.describe()"
   ]
  },
  {
   "cell_type": "code",
   "execution_count": null,
   "id": "2e4a0037-b2bb-4703-a859-856edce39009",
   "metadata": {},
   "outputs": [],
   "source": [
    "df.columns"
   ]
  },
  {
   "cell_type": "code",
   "execution_count": null,
   "id": "275d8320-20fe-47b2-8608-9d787d767c91",
   "metadata": {},
   "outputs": [],
   "source": [
    "df.info()"
   ]
  },
  {
   "cell_type": "code",
   "execution_count": null,
   "id": "98aca3be-0d86-4673-972f-c928bbba6da5",
   "metadata": {},
   "outputs": [],
   "source": [
    "# Distribución\n",
    "fraud_ratio = df['is_fraud'].value_counts(normalize=True)\n",
    "print(\"Distribución de fraudes:\")\n",
    "print(fraud_ratio)\n",
    "\n",
    "sns.countplot(x='is_fraud', data=df)\n",
    "plt.title('Distribución de Fraudes vs No Fraudes')\n",
    "plt.show()\n"
   ]
  },
  {
   "cell_type": "code",
   "execution_count": null,
   "id": "96177297-6eb1-4f88-993e-311b17770984",
   "metadata": {},
   "outputs": [],
   "source": [
    "numeric_cols = df.select_dtypes(include=['float64', 'int64']).drop(columns=['is_fraud'])\n",
    "corr = numeric_cols.corrwith(df['is_fraud']).sort_values(key=abs, ascending=False)\n",
    "\n",
    "plt.figure(figsize=(10, 6))\n",
    "sns.barplot(x=corr.values, y=corr.index)\n",
    "plt.title(\"Correlación de variables numéricas con `is_fraud`\")\n",
    "plt.show()\n"
   ]
  },
  {
   "cell_type": "code",
   "execution_count": null,
   "id": "d1de6b03-70b6-49a9-abea-77cf05b9b95b",
   "metadata": {},
   "outputs": [],
   "source": [
    "fig, ax = plt.subplots(1, 2, figsize=(14, 5))\n",
    "\n",
    "sns.countplot(x='hour', hue='is_fraud', data=df, ax=ax[0])\n",
    "ax[0].set_title('Transacciones por Hora')\n",
    "\n",
    "sns.countplot(x='trans_day', hue='is_fraud', data=df, ax=ax[1])\n",
    "ax[1].set_title('Transacciones por Día del Mes')\n",
    "\n",
    "plt.tight_layout()\n",
    "plt.show()\n"
   ]
  },
  {
   "cell_type": "code",
   "execution_count": null,
   "id": "cfb244c6-9fe3-4a6b-af44-f14c29d92541",
   "metadata": {},
   "outputs": [],
   "source": [
    "top_merchants = df['merchant'].value_counts().head(10).index\n",
    "df_top = df[df['merchant'].isin(top_merchants)]\n",
    "\n",
    "sns.countplot(y='merchant', hue='is_fraud', data=df_top)\n",
    "plt.title(\"Fraudes en Comercios Más Frecuentes\")\n",
    "plt.show()\n",
    "\n",
    "sns.countplot(y='category', hue='is_fraud', data=df)\n",
    "plt.title(\"Fraudes por Categoría de Compra\")\n",
    "plt.show()\n"
   ]
  },
  {
   "cell_type": "code",
   "execution_count": null,
   "id": "f0a3ba60-4705-445f-98f4-caaec541f20b",
   "metadata": {},
   "outputs": [],
   "source": [
    "# 1. FLAG DE PERFIL COMPLEJO\n",
    "df['is_complex_profile'] = (\n",
    "    (df['amt_year'] > 5000) & # El usuario ha gastado más de Q5000 en el año.\n",
    "    (df['times_shopped_at_merchant_year'] > 10) & # El usuario ha comprado en un mismo comercio más de 10 veces en el año.\n",
    "    (df['count_month_shopping_net'] > 5) # Ha realizado más de 5 compras online en el mes.\n",
    ")"
   ]
  },
  {
   "cell_type": "code",
   "execution_count": null,
   "id": "b944fd67-524d-46fe-9e39-aa8ea71aecea",
   "metadata": {},
   "outputs": [],
   "source": [
    "# Transacciones complejas legítimas\n",
    "non_fraud_complex = df[(df['is_complex_profile']) & (df['is_fraud'] == 0)]\n",
    "print(f\"Transacciones complejas legítimas: {len(non_fraud_complex)}\")\n"
   ]
  },
  {
   "cell_type": "code",
   "execution_count": null,
   "id": "ca77b58c-2c96-4792-bb2f-5b4a048e1d84",
   "metadata": {},
   "outputs": [],
   "source": [
    "# Tasa de fraude en perfiles complejos\n",
    "print(\"\\nTasa de fraude en perfiles complejos:\")\n",
    "print(df[df['is_complex_profile']]['is_fraud'].value_counts(normalize=True))"
   ]
  },
  {
   "cell_type": "code",
   "execution_count": null,
   "id": "fb17a5f3-6468-4271-82f9-efa100add2ad",
   "metadata": {},
   "outputs": [],
   "source": [
    "# Proporción de fraude por categoría\n",
    "fraude_por_cat = df.groupby('category')['is_fraud'].mean().sort_values(ascending=False)\n",
    "plt.figure(figsize=(10, 6))\n",
    "fraude_por_cat.plot(kind='barh', title='Proporción de fraude por categoría')\n",
    "plt.tight_layout()\n",
    "plt.show()"
   ]
  },
  {
   "cell_type": "code",
   "execution_count": null,
   "id": "f922d404-8d7d-4a5a-9ec5-8686d12453aa",
   "metadata": {},
   "outputs": [],
   "source": [
    "# Porcentaje de fraudes por hora\n",
    "fraude_por_hora = df.groupby('hour')['is_fraud'].mean()\n",
    "plt.figure(figsize=(10, 4))\n",
    "fraude_por_hora.plot(kind='bar', title='% de fraudes por hora')\n",
    "plt.ylabel('% fraude')\n",
    "plt.xlabel('Hora del día')\n",
    "plt.tight_layout()\n",
    "plt.show()"
   ]
  },
  {
   "cell_type": "code",
   "execution_count": null,
   "id": "a408763e-6619-477a-99ac-c9aecaabf233",
   "metadata": {},
   "outputs": [],
   "source": [
    "# Proyección PCA\n",
    "numeric_cols = df.select_dtypes(include=['float64', 'int64']).drop(columns=['is_fraud'])\n",
    "\n",
    "X_scaled = StandardScaler().fit_transform(numeric_cols.fillna(0))\n",
    "pca = PCA(n_components=2).fit_transform(X_scaled)\n",
    "\n",
    "df['pca1'] = pca[:, 0]\n",
    "df['pca2'] = pca[:, 1]\n",
    "\n",
    "plt.figure(figsize=(10, 6))\n",
    "sns.scatterplot(data=df.sample(5000, random_state=42), x='pca1', y='pca2', hue='is_fraud',\n",
    "                style='is_complex_profile', alpha=0.4)\n",
    "plt.title(\"Distribución PCA: fraudes y perfiles complejos\")\n",
    "plt.tight_layout()\n",
    "plt.show()"
   ]
  },
  {
   "cell_type": "markdown",
   "id": "d697cf6c-69d4-4d8d-82c4-d20e95ba1dff",
   "metadata": {},
   "source": [
    "# FIN EDA"
   ]
  },
  {
   "cell_type": "code",
   "execution_count": null,
   "id": "aafd4e06-32d6-4919-96f9-91f230aa9dce",
   "metadata": {},
   "outputs": [],
   "source": [
    "# 2. CONVERTIR CATEGÓRICAS, da error si no son categoricas\n",
    "for col in df.select_dtypes(include='object').columns:\n",
    "    df[col] = df[col].astype('category')"
   ]
  },
  {
   "cell_type": "code",
   "execution_count": null,
   "id": "7b488ab9-d43f-4484-972f-2065476d0d69",
   "metadata": {},
   "outputs": [],
   "source": [
    "# 3. DIVISIÓN TEMPORAL\n",
    "train_df = df[df['trans_month'] < 12].copy()\n",
    "test_df  = df[df['trans_month'] == 12].copy()\n",
    "\n",
    "X_train = train_df.drop(columns=['is_fraud'])\n",
    "y_train = train_df['is_fraud']\n",
    "X_test = test_df.drop(columns=['is_fraud'])\n",
    "y_test = test_df['is_fraud']"
   ]
  },
  {
   "cell_type": "code",
   "execution_count": null,
   "id": "14ee4bc2-5cd2-40e4-a4ad-22254ef1aa91",
   "metadata": {},
   "outputs": [],
   "source": [
    "# 4. FUNCIÓN DE EVALUACIÓN\n",
    "def feval_penalty_fp_complex(preds, train_data):\n",
    "    labels = train_data.get_label()\n",
    "    preds_binary = (preds > 0.5).astype(int)\n",
    "    complexity = train_data.get_weight()\n",
    "    if complexity is None:\n",
    "        complexity = np.zeros_like(labels)\n",
    "\n",
    "    tp = ((labels == 1) & (preds_binary == 1)).sum()\n",
    "    fp = ((labels == 0) & (preds_binary == 1)).astype(int)\n",
    "    fp_penalized = (fp * (1 + complexity)).sum()\n",
    "\n",
    "    score = tp / (tp + fp_penalized + 1e-6)\n",
    "    return 'tp_over_penalized_fp', score, True\n",
    "\n",
    "# F1 score penalizado por FP complejos\n",
    "def feval_f1_fp_penalty(preds, train_data):\n",
    "    labels = train_data.get_label()\n",
    "    preds_binary = (preds > 0.5).astype(int)\n",
    "    complexity = train_data.get_weight()\n",
    "    if complexity is None:\n",
    "        complexity = np.zeros_like(labels)\n",
    "\n",
    "    tp = ((labels == 1) & (preds_binary == 1)).sum()\n",
    "    fp = ((labels == 0) & (preds_binary == 1)).sum()\n",
    "    fn = ((labels == 1) & (preds_binary == 0)).sum()\n",
    "\n",
    "    precision = tp / (tp + fp + 1e-6)\n",
    "    recall = tp / (tp + fn + 1e-6)\n",
    "    f1 = 2 * precision * recall / (precision + recall + 1e-6)\n",
    "\n",
    "    fp_penalty = ((labels == 0) & (preds_binary == 1) & (complexity == 1)).sum()\n",
    "    penalty_factor = fp_penalty / (tp + 1e-6)\n",
    "\n",
    "    return 'f1_penalized', f1 - 0.1 * penalty_factor, True\n",
    "\n",
    "# Precisión pura, penalizada por FP complejos\n",
    "def feval_precision_boosted(preds, train_data):\n",
    "    labels = train_data.get_label()\n",
    "    preds_binary = (preds > 0.5).astype(int)\n",
    "    complexity = train_data.get_weight()\n",
    "    if complexity is None:\n",
    "        complexity = np.zeros_like(labels)\n",
    "\n",
    "    tp = ((labels == 1) & (preds_binary == 1)).sum()\n",
    "    fp = ((labels == 0) & (preds_binary == 1)).sum()\n",
    "    precision = tp / (tp + fp + 1e-6)\n",
    "\n",
    "    fp_complex = ((labels == 0) & (preds_binary == 1) & (complexity == 1)).sum()\n",
    "    penalty = 0.05 * fp_complex\n",
    "\n",
    "    return 'precision_boosted', precision - penalty / (tp + 1e-6), True\n",
    "\n",
    "\n",
    "def compute_scale_pos_weight(y, cap=300):\n",
    "    \"\"\"\n",
    "    Calcula el scale_pos_weight dinámicamente y lo limita a un máximo razonable.\n",
    "    \n",
    "    Args:\n",
    "        y (array-like): Vector de etiquetas (0 y 1).\n",
    "        cap (float): Valor máximo permitido para evitar sobreajuste.\n",
    "\n",
    "    Returns:\n",
    "        float: Valor final a usar en scale_pos_weight.\n",
    "    \"\"\"\n",
    "    count_neg = np.sum(np.array(y) == 0)\n",
    "    count_pos = np.sum(np.array(y) == 1)\n",
    "    if count_pos == 0:\n",
    "        raise ValueError(\"No hay muestras positivas (fraudes) en los datos.\")\n",
    "    weight = count_neg / count_pos\n",
    "    capped_weight = min(weight, cap)\n",
    "    print(f\"scale_pos_weight calculado: {weight:.2f} → usado: {capped_weight:.2f}\")\n",
    "    return capped_weight\n"
   ]
  },
  {
   "cell_type": "code",
   "execution_count": null,
   "id": "cd9e10c5-b6be-44e4-ad97-190a9a15ef79",
   "metadata": {},
   "outputs": [],
   "source": [
    "# 5. PREPARACIÓN DE DATOS PARA LIGHTGBM\n",
    "# Guardamos la columna de pesos ANTES de eliminarla\n",
    "weights = (~X_train['is_complex_profile']).astype(int) * 2 + 1\n",
    "\n",
    "# Eliminamos la columna de perfil complejo del modelo\n",
    "X_train_model = X_train.drop(columns=['is_complex_profile'])\n",
    "X_test_model = X_test.drop(columns=['is_complex_profile'])\n",
    "\n",
    "train_set = lgb.Dataset(X_train_model, label=y_train, weight=weights)\n",
    "valid_set = lgb.Dataset(X_test_model, label=y_test)\n",
    "\n",
    "fraud_weight = len(y_train[y_train == 0]) / len(y_train[y_train == 1])\n",
    "print(f\"scale_pos_weight calculado: {fraud_weight:.2f}\")\n",
    "\n",
    "scaled_weight = compute_scale_pos_weight(y_train, cap=300)"
   ]
  },
  {
   "cell_type": "code",
   "execution_count": null,
   "id": "b3461dba-f04f-4cbc-92f4-cc3cac8e1dd1",
   "metadata": {},
   "outputs": [],
   "source": [
    "# 6. PARÁMETROS DEL MODELO\n",
    "params = {\n",
    "    'objective': 'binary',\n",
    "    'metric': 'auc',\n",
    "    'boosting_type': 'gbdt',\n",
    "    # 'is_unbalance': True,\n",
    "    'learning_rate': 0.05,\n",
    "    'num_leaves': 31,\n",
    "    'scale_pos_weight': scaled_weight,  # compensar desbalance\n",
    "    'seed': 42\n",
    "}"
   ]
  },
  {
   "cell_type": "code",
   "execution_count": null,
   "id": "13d29e1e-57f1-4c85-b278-d3ba6e7a1126",
   "metadata": {},
   "outputs": [],
   "source": [
    "# 7. ENTRENAMIENTO\n",
    "model = lgb.train(\n",
    "    params,\n",
    "    train_set,\n",
    "    valid_sets=[valid_set],\n",
    "    num_boost_round=500,\n",
    "    feval=feval_penalty_fp_complex,\n",
    "    callbacks=[\n",
    "        lgb.early_stopping(50),\n",
    "        lgb.log_evaluation(50)\n",
    "    ]\n",
    ")"
   ]
  },
  {
   "cell_type": "code",
   "execution_count": null,
   "id": "d5dbec92-2283-4a4e-a1ff-2919e547fef8",
   "metadata": {},
   "outputs": [],
   "source": [
    "# 8. EVALUACIÓN FINAL\n",
    "# Umbral personalizado\n",
    "def custom_threshold(preds_proba, is_complex, threshold_simple=0.5, threshold_complex=0.7):\n",
    "    return np.where(\n",
    "        is_complex,\n",
    "        preds_proba > threshold_complex,\n",
    "        preds_proba > threshold_simple\n",
    "    ).astype(int)\n",
    "\n",
    "preds_proba = model.predict(X_test_model)\n",
    "preds_bin = custom_threshold(preds_proba, X_test['is_complex_profile'])\n",
    "\n",
    "# preds_bin = (preds_proba > 0.5).astype(int)\n",
    "\n",
    "print(\"Matriz de Confusión:\")\n",
    "print(confusion_matrix(y_test, preds_bin))\n",
    "\n",
    "print(\"\\nClassification Report:\")\n",
    "print(classification_report(y_test, preds_bin, digits=4))"
   ]
  },
  {
   "cell_type": "code",
   "execution_count": null,
   "id": "285973e3-561a-4e43-8bdc-77342ae6d22c",
   "metadata": {},
   "outputs": [],
   "source": [
    "# 9. Métrica personalizada para FP en perfiles complejos\n",
    "def report_fp_complex(y_true, y_pred, is_complex):\n",
    "    false_positives = (y_true == 0) & (y_pred == 1)\n",
    "    fp_complex = false_positives & is_complex\n",
    "\n",
    "    print(f\"Falsos Positivos totales: {false_positives.sum()}\")\n",
    "    print(f\"Falsos Positivos en perfiles complejos: {fp_complex.sum()}\")\n",
    "    print(f\"Proporción de FP complejos: {fp_complex.sum() / (false_positives.sum() + 1e-6):.4f}\")\n",
    "report_fp_complex(y_test.values, preds_bin, X_test['is_complex_profile'].values)"
   ]
  },
  {
   "cell_type": "code",
   "execution_count": null,
   "id": "194ace48-6056-4923-b89e-be5d12637e23",
   "metadata": {},
   "outputs": [],
   "source": [
    "# 10. IMPORTANCIA DE VARIABLES\n",
    "lgb.plot_importance(model, max_num_features=15, importance_type='gain')\n",
    "plt.title(\"Top 15 features por ganancia\")\n",
    "plt.tight_layout()\n",
    "plt.show()"
   ]
  },
  {
   "cell_type": "code",
   "execution_count": null,
   "id": "6a0be003-1a6d-4d8e-9386-064dcb180348",
   "metadata": {},
   "outputs": [],
   "source": [
    "# 11. COMPARACIÓN AUTOMÁTICA DE LAS 3 FUNCIONES\n",
    "results = {}\n",
    "\n",
    "for name, feval_fn in [\n",
    "    (\"penalty_fp_complex\", feval_penalty_fp_complex),\n",
    "    (\"f1_fp_penalty\", feval_f1_fp_penalty),\n",
    "    (\"precision_boosted\", feval_precision_boosted),\n",
    "]:\n",
    "    print(f\"\\nEntrenando con métrica: {name}\")\n",
    "    \n",
    "    model = lgb.train(\n",
    "        params,\n",
    "        train_set,\n",
    "        valid_sets=[valid_set],\n",
    "        num_boost_round=500,\n",
    "        feval=feval_fn,\n",
    "        callbacks=[\n",
    "            lgb.early_stopping(50),\n",
    "            lgb.log_evaluation(50)\n",
    "        ]\n",
    "    )\n",
    "\n",
    "    preds_proba = model.predict(X_test_model)\n",
    "    preds_bin = (preds_proba > 0.5).astype(int)\n",
    "\n",
    "    print(f\"\\nResultados para {name}:\")\n",
    "    print(confusion_matrix(y_test, preds_bin))\n",
    "    print(classification_report(y_test, preds_bin, digits=4))\n",
    "\n",
    "    results[name] = {\n",
    "        \"model\": model,\n",
    "        \"preds_bin\": preds_bin,\n",
    "        \"preds_proba\": preds_proba\n",
    "    }"
   ]
  },
  {
   "cell_type": "code",
   "execution_count": null,
   "id": "60428a09-e859-4735-8c7e-9426b9a3fb75",
   "metadata": {},
   "outputs": [],
   "source": [
    "y_pred_bin = results['penalty_fp_complex']['preds_bin']  # o cualquier otro\n",
    "is_complex = X_test['is_complex_profile']\n",
    "\n",
    "false_positives = (y_test == 0) & (y_pred_bin == 1)\n",
    "print(f\"FP complejos: {false_positives[is_complex].sum()} / {false_positives.sum()}\")"
   ]
  },
  {
   "cell_type": "code",
   "execution_count": null,
   "id": "50051c9a-2788-4a50-8f6c-94bc66d0a1e9",
   "metadata": {},
   "outputs": [],
   "source": []
  }
 ],
 "metadata": {
  "kernelspec": {
   "display_name": "Python 3 (ipykernel)",
   "language": "python",
   "name": "python3"
  },
  "language_info": {
   "codemirror_mode": {
    "name": "ipython",
    "version": 3
   },
   "file_extension": ".py",
   "mimetype": "text/x-python",
   "name": "python",
   "nbconvert_exporter": "python",
   "pygments_lexer": "ipython3",
   "version": "3.12.3"
  }
 },
 "nbformat": 4,
 "nbformat_minor": 5
}
