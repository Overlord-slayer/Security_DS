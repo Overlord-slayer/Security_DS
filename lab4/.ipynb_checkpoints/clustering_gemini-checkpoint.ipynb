{
 "cells": [
  {
   "cell_type": "code",
   "execution_count": 26,
   "id": "a1d0d0a3-0377-4e57-a18c-91b757f7abf3",
   "metadata": {},
   "outputs": [],
   "source": [
    "import os\n",
    "import pefile\n",
    "import pandas as pd"
   ]
  },
  {
   "cell_type": "code",
   "execution_count": 32,
   "id": "9e8f67a9-9517-4142-b6e5-2c93ce2e9b34",
   "metadata": {},
   "outputs": [],
   "source": [
    "df2 = pd.read_csv(\"greencat_families.csv\")"
   ]
  },
  {
   "cell_type": "code",
   "execution_count": 33,
   "id": "e6a7f9c2-c4f7-4f8c-b9f8-46e8b36e8272",
   "metadata": {},
   "outputs": [
    {
     "name": "stdout",
     "output_type": "stream",
     "text": [
      "    Unnamed: 0                              Hash  \\\n",
      "0            1  871CC547FEB9DBEC0285321068E392B8   \n",
      "1            2  57E79F7DF13C0CB01910D0C688FCD296   \n",
      "2            3  FAB6B0B33D59F393E142000F128A9652   \n",
      "3            4  BA0C4D3DBF07D407211B5828405A9B91   \n",
      "4            5  5AEAA53340A281074FCB539967438E3F   \n",
      "5            6  6D2320AF561B2315C1241E3EFD86067F   \n",
      "6            7  E83F60FB0E0396EA309FAF0AED64E53F   \n",
      "7            8  B3BC979D8DE3BE09728C5DE1A0297C4B   \n",
      "8            9  E54CE5F0112C9FDFE86DB17E85A5E2C5   \n",
      "9           10  B8F61242E28F2EDF6CB1BE8781438491   \n",
      "10          11  30E78D186B27D2023A2A7319BB679C3F   \n",
      "11          12  55FB1409170C91740359D1D96364F17B   \n",
      "12          13  F4ED3B7A8A58453052DB4B5BE3707342   \n",
      "13          14  7388D67561D0A7989202AD4D37EFF24F   \n",
      "14          15  1F92FF8711716CA795FBD81C477E45F5   \n",
      "15          16  3E6ED3EE47BCE9946E2541332CB34C69   \n",
      "16          17  390D1F2A620912104F53C034C8AEF14B   \n",
      "17          18  AB208F0B517BA9850F1551C9555B5313   \n",
      "18          19  A565682D8A13A5719977223E0D9C7AA4   \n",
      "19          20  3E69945E5865CCC861F69B24BC1166B6   \n",
      "20          21  36C0D3F109AEDE4D76B05431F8A64F9E   \n",
      "\n",
      "                                            Functions Family  \n",
      "0    GetComputerNameA WriteFile ReadFile PeekNamed...   Fam1  \n",
      "1    GetComputerNameA WriteFile ReadFile PeekNamed...   Fam1  \n",
      "2    lstrcatA GetLogicalDrives Process32Next Proce...   Fam3  \n",
      "3    GetConsoleDisplayMode ReadFile PeekNamedPipe ...   Fam5  \n",
      "4    GetComputerNameA WriteConsoleInputA CreateFil...   Fam6  \n",
      "5    GetExitCodeProcess CreateProcessA GetFileAttr...   Fam4  \n",
      "6    GetConsoleDisplayMode ReadFile PeekNamedPipe ...   Fam5  \n",
      "7    GetExitCodeProcess CreateProcessA GetFileAttr...   Fam4  \n",
      "8    GetConsoleDisplayMode ReadFile PeekNamedPipe ...   Fam5  \n",
      "9    AllocConsole GetConsoleDisplayMode ReadFile P...   Fam2  \n",
      "10   AllocConsole GetConsoleDisplayMode ReadFile P...   Fam2  \n",
      "11   GetConsoleDisplayMode ReadFile PeekNamedPipe ...   Fam5  \n",
      "12   lstrcatA GetLogicalDrives Process32Next Proce...   Fam3  \n",
      "13   lstrcatA GetLogicalDrives Process32Next Proce...   Fam3  \n",
      "14   GetComputerNameA WriteConsoleInputA CreateFil...   Fam6  \n",
      "15   GetComputerNameA WriteConsoleInputA CreateFil...   Fam6  \n",
      "16   GetComputerNameA WriteFile ReadFile PeekNamed...   Fam1  \n",
      "17   GetComputerNameA WriteConsoleInputA CreateFil...   Fam6  \n",
      "18   GetExitCodeProcess CreateProcessA GetFileAttr...   Fam4  \n",
      "19   GetComputerNameA WriteConsoleInputA CreateFil...   Fam6  \n",
      "20   GetConsoleDisplayMode ReadFile PeekNamedPipe ...   Fam5  \n"
     ]
    }
   ],
   "source": [
    "print(df2)"
   ]
  },
  {
   "cell_type": "code",
   "execution_count": 34,
   "id": "4569226d-f231-40a8-8a36-e5d66e63c60b",
   "metadata": {},
   "outputs": [
    {
     "name": "stderr",
     "output_type": "stream",
     "text": [
      "/Volumes/Crucial X9 Pro For Mac/UVG/2025/SDS/Ejemplos/.venv/lib/python3.9/site-packages/urllib3/__init__.py:35: NotOpenSSLWarning: urllib3 v2 only supports OpenSSL 1.1.1+, currently the 'ssl' module is compiled with 'LibreSSL 2.8.3'. See: https://github.com/urllib3/urllib3/issues/3020\n",
      "  warnings.warn(\n",
      "/Volumes/Crucial X9 Pro For Mac/UVG/2025/SDS/Ejemplos/.venv/lib/python3.9/site-packages/tqdm/auto.py:21: TqdmWarning: IProgress not found. Please update jupyter and ipywidgets. See https://ipywidgets.readthedocs.io/en/stable/user_install.html\n",
      "  from .autonotebook import tqdm as notebook_tqdm\n"
     ]
    }
   ],
   "source": [
    "import google.generativeai as genai\n"
   ]
  },
  {
   "cell_type": "code",
   "execution_count": 35,
   "id": "c5ff7f54-8df8-401d-ac5c-2fa15a70b767",
   "metadata": {},
   "outputs": [],
   "source": [
    "genai.configure(api_key=os.environ[\"GEMINI_API_KEY\"])"
   ]
  },
  {
   "cell_type": "code",
   "execution_count": 43,
   "id": "4f1c61ca-a914-465b-960a-1fecdc94b065",
   "metadata": {},
   "outputs": [],
   "source": [
    "from google.api_core import retry\n",
    "from tqdm.auto import tqdm\n",
    "tqdm.pandas()"
   ]
  },
  {
   "cell_type": "code",
   "execution_count": 44,
   "id": "3dc8eaea-82e3-4519-9729-223b3bc17e8f",
   "metadata": {},
   "outputs": [],
   "source": [
    "def make_embed_text_fn(model):\n",
    "\n",
    "  @retry.Retry(timeout=300.0)\n",
    "  def embed_fn(text: str) -> list[float]:\n",
    "    # Set the task_type to CLUSTERING.\n",
    "    embedding = genai.embed_content(model=model,\n",
    "                                    content=text,\n",
    "                                    task_type=\"clustering\")\n",
    "    return embedding[\"embedding\"]\n",
    "\n",
    "  return embed_fn"
   ]
  },
  {
   "cell_type": "code",
   "execution_count": 47,
   "id": "fb9d931e-7e58-4b5f-9c77-a6de8749bc33",
   "metadata": {},
   "outputs": [],
   "source": [
    "def create_embeddings(df):\n",
    "  model = 'models/embedding-001'\n",
    "  df['Embeddings'] = df['Functions'].progress_apply(make_embed_text_fn(model))\n",
    "  return df"
   ]
  },
  {
   "cell_type": "code",
   "execution_count": 48,
   "id": "950f67b1-71f9-445a-a298-d2824e601d41",
   "metadata": {},
   "outputs": [
    {
     "name": "stderr",
     "output_type": "stream",
     "text": [
      "100%|███████████████████████████████████████████| 21/21 [00:04<00:00,  4.68it/s]\n"
     ]
    }
   ],
   "source": [
    "df_train = create_embeddings(df2)"
   ]
  },
  {
   "cell_type": "code",
   "execution_count": 49,
   "id": "c9d1bf36-21b3-45d6-8923-edff1dbdad96",
   "metadata": {},
   "outputs": [
    {
     "name": "stdout",
     "output_type": "stream",
     "text": [
      "    Unnamed: 0                              Hash  \\\n",
      "0            1  871CC547FEB9DBEC0285321068E392B8   \n",
      "1            2  57E79F7DF13C0CB01910D0C688FCD296   \n",
      "2            3  FAB6B0B33D59F393E142000F128A9652   \n",
      "3            4  BA0C4D3DBF07D407211B5828405A9B91   \n",
      "4            5  5AEAA53340A281074FCB539967438E3F   \n",
      "5            6  6D2320AF561B2315C1241E3EFD86067F   \n",
      "6            7  E83F60FB0E0396EA309FAF0AED64E53F   \n",
      "7            8  B3BC979D8DE3BE09728C5DE1A0297C4B   \n",
      "8            9  E54CE5F0112C9FDFE86DB17E85A5E2C5   \n",
      "9           10  B8F61242E28F2EDF6CB1BE8781438491   \n",
      "10          11  30E78D186B27D2023A2A7319BB679C3F   \n",
      "11          12  55FB1409170C91740359D1D96364F17B   \n",
      "12          13  F4ED3B7A8A58453052DB4B5BE3707342   \n",
      "13          14  7388D67561D0A7989202AD4D37EFF24F   \n",
      "14          15  1F92FF8711716CA795FBD81C477E45F5   \n",
      "15          16  3E6ED3EE47BCE9946E2541332CB34C69   \n",
      "16          17  390D1F2A620912104F53C034C8AEF14B   \n",
      "17          18  AB208F0B517BA9850F1551C9555B5313   \n",
      "18          19  A565682D8A13A5719977223E0D9C7AA4   \n",
      "19          20  3E69945E5865CCC861F69B24BC1166B6   \n",
      "20          21  36C0D3F109AEDE4D76B05431F8A64F9E   \n",
      "\n",
      "                                            Functions Family  \\\n",
      "0    GetComputerNameA WriteFile ReadFile PeekNamed...   Fam1   \n",
      "1    GetComputerNameA WriteFile ReadFile PeekNamed...   Fam1   \n",
      "2    lstrcatA GetLogicalDrives Process32Next Proce...   Fam3   \n",
      "3    GetConsoleDisplayMode ReadFile PeekNamedPipe ...   Fam5   \n",
      "4    GetComputerNameA WriteConsoleInputA CreateFil...   Fam6   \n",
      "5    GetExitCodeProcess CreateProcessA GetFileAttr...   Fam4   \n",
      "6    GetConsoleDisplayMode ReadFile PeekNamedPipe ...   Fam5   \n",
      "7    GetExitCodeProcess CreateProcessA GetFileAttr...   Fam4   \n",
      "8    GetConsoleDisplayMode ReadFile PeekNamedPipe ...   Fam5   \n",
      "9    AllocConsole GetConsoleDisplayMode ReadFile P...   Fam2   \n",
      "10   AllocConsole GetConsoleDisplayMode ReadFile P...   Fam2   \n",
      "11   GetConsoleDisplayMode ReadFile PeekNamedPipe ...   Fam5   \n",
      "12   lstrcatA GetLogicalDrives Process32Next Proce...   Fam3   \n",
      "13   lstrcatA GetLogicalDrives Process32Next Proce...   Fam3   \n",
      "14   GetComputerNameA WriteConsoleInputA CreateFil...   Fam6   \n",
      "15   GetComputerNameA WriteConsoleInputA CreateFil...   Fam6   \n",
      "16   GetComputerNameA WriteFile ReadFile PeekNamed...   Fam1   \n",
      "17   GetComputerNameA WriteConsoleInputA CreateFil...   Fam6   \n",
      "18   GetExitCodeProcess CreateProcessA GetFileAttr...   Fam4   \n",
      "19   GetComputerNameA WriteConsoleInputA CreateFil...   Fam6   \n",
      "20   GetConsoleDisplayMode ReadFile PeekNamedPipe ...   Fam5   \n",
      "\n",
      "                                           Embeddings  \n",
      "0   [0.026653435, 0.013376407, -0.061032392, -0.01...  \n",
      "1   [0.026653435, 0.013376407, -0.061032392, -0.01...  \n",
      "2   [0.025416097, 0.01559843, -0.05379643, -0.0351...  \n",
      "3   [0.017497053, 0.011374899, -0.054675244, -0.02...  \n",
      "4   [0.024248175, 0.006794686, -0.05802761, -0.018...  \n",
      "5   [0.035599757, 0.027266784, -0.06797727, -0.027...  \n",
      "6   [0.017497053, 0.011374899, -0.054675244, -0.02...  \n",
      "7   [0.035599757, 0.027266784, -0.06797727, -0.027...  \n",
      "8   [0.017497053, 0.011374899, -0.054675244, -0.02...  \n",
      "9   [0.033050478, 0.009645416, -0.049419098, -0.01...  \n",
      "10  [0.033050478, 0.009645416, -0.049419098, -0.01...  \n",
      "11  [0.017497053, 0.011374899, -0.054675244, -0.02...  \n",
      "12  [0.025416097, 0.01559843, -0.05379643, -0.0351...  \n",
      "13  [0.025416097, 0.01559843, -0.05379643, -0.0351...  \n",
      "14  [0.024248175, 0.006794686, -0.05802761, -0.018...  \n",
      "15  [0.024248175, 0.006794686, -0.05802761, -0.018...  \n",
      "16  [0.026653435, 0.013376407, -0.061032392, -0.01...  \n",
      "17  [0.024248175, 0.006794686, -0.05802761, -0.018...  \n",
      "18  [0.035599757, 0.027266784, -0.06797727, -0.027...  \n",
      "19  [0.024248175, 0.006794686, -0.05802761, -0.018...  \n",
      "20  [0.017497053, 0.011374899, -0.054675244, -0.02...  \n"
     ]
    }
   ],
   "source": [
    "print(df_train)"
   ]
  },
  {
   "cell_type": "code",
   "execution_count": 50,
   "id": "55ee42be-47c5-42d8-be1e-429401ae6a66",
   "metadata": {},
   "outputs": [
    {
     "data": {
      "text/plain": [
       "768"
      ]
     },
     "execution_count": 50,
     "metadata": {},
     "output_type": "execute_result"
    }
   ],
   "source": [
    "len(df_train['Embeddings'][0])"
   ]
  },
  {
   "cell_type": "code",
   "execution_count": 53,
   "id": "154b74a6-9320-40af-83ac-6446ab883211",
   "metadata": {},
   "outputs": [
    {
     "data": {
      "text/plain": [
       "(21, 768)"
      ]
     },
     "execution_count": 53,
     "metadata": {},
     "output_type": "execute_result"
    }
   ],
   "source": [
    "import numpy as np\n",
    "# Convert df_train['Embeddings'] Pandas series to a np.array of float32\n",
    "X = np.array(df_train['Embeddings'].to_list(), dtype=np.float32)\n",
    "X.shape"
   ]
  },
  {
   "cell_type": "code",
   "execution_count": 55,
   "id": "a7a4ddf9-81a2-4298-96d2-f01d7870fb8f",
   "metadata": {},
   "outputs": [],
   "source": [
    "from sklearn.manifold import TSNE\n",
    "from sklearn.cluster import KMeans\n",
    "import matplotlib.pyplot as plt\n",
    "import seaborn as sns"
   ]
  },
  {
   "cell_type": "code",
   "execution_count": 70,
   "id": "6c76c5f5-ef81-4da9-85dd-504aca0fa54d",
   "metadata": {},
   "outputs": [
    {
     "name": "stderr",
     "output_type": "stream",
     "text": [
      "/Volumes/Crucial X9 Pro For Mac/UVG/2025/SDS/Ejemplos/.venv/lib/python3.9/site-packages/sklearn/manifold/_t_sne.py:1164: FutureWarning: 'n_iter' was renamed to 'max_iter' in version 1.5 and will be removed in 1.7.\n",
      "  warnings.warn(\n"
     ]
    }
   ],
   "source": [
    "tsne = TSNE(random_state=0, n_iter=1000, perplexity=5.0, )\n",
    "tsne_results = tsne.fit_transform(X)"
   ]
  },
  {
   "cell_type": "code",
   "execution_count": 71,
   "id": "8eebd43a-723f-4504-a474-d5b66f57c7da",
   "metadata": {},
   "outputs": [
    {
     "data": {
      "text/html": [
       "<div>\n",
       "<style scoped>\n",
       "    .dataframe tbody tr th:only-of-type {\n",
       "        vertical-align: middle;\n",
       "    }\n",
       "\n",
       "    .dataframe tbody tr th {\n",
       "        vertical-align: top;\n",
       "    }\n",
       "\n",
       "    .dataframe thead th {\n",
       "        text-align: right;\n",
       "    }\n",
       "</style>\n",
       "<table border=\"1\" class=\"dataframe\">\n",
       "  <thead>\n",
       "    <tr style=\"text-align: right;\">\n",
       "      <th></th>\n",
       "      <th>TSNE1</th>\n",
       "      <th>TSNE2</th>\n",
       "      <th>Family</th>\n",
       "    </tr>\n",
       "  </thead>\n",
       "  <tbody>\n",
       "    <tr>\n",
       "      <th>0</th>\n",
       "      <td>-1194.833374</td>\n",
       "      <td>349.296631</td>\n",
       "      <td>Fam1</td>\n",
       "    </tr>\n",
       "    <tr>\n",
       "      <th>1</th>\n",
       "      <td>-873.866882</td>\n",
       "      <td>582.548950</td>\n",
       "      <td>Fam1</td>\n",
       "    </tr>\n",
       "    <tr>\n",
       "      <th>2</th>\n",
       "      <td>63.464809</td>\n",
       "      <td>1473.819824</td>\n",
       "      <td>Fam3</td>\n",
       "    </tr>\n",
       "    <tr>\n",
       "      <th>3</th>\n",
       "      <td>-217.634399</td>\n",
       "      <td>-1282.424316</td>\n",
       "      <td>Fam5</td>\n",
       "    </tr>\n",
       "    <tr>\n",
       "      <th>4</th>\n",
       "      <td>30.158615</td>\n",
       "      <td>440.792877</td>\n",
       "      <td>Fam6</td>\n",
       "    </tr>\n",
       "    <tr>\n",
       "      <th>5</th>\n",
       "      <td>1163.331299</td>\n",
       "      <td>-113.254707</td>\n",
       "      <td>Fam4</td>\n",
       "    </tr>\n",
       "    <tr>\n",
       "      <th>6</th>\n",
       "      <td>-217.634399</td>\n",
       "      <td>-1282.424316</td>\n",
       "      <td>Fam5</td>\n",
       "    </tr>\n",
       "    <tr>\n",
       "      <th>7</th>\n",
       "      <td>1089.310181</td>\n",
       "      <td>-488.248596</td>\n",
       "      <td>Fam4</td>\n",
       "    </tr>\n",
       "    <tr>\n",
       "      <th>8</th>\n",
       "      <td>-217.634399</td>\n",
       "      <td>-1282.424316</td>\n",
       "      <td>Fam5</td>\n",
       "    </tr>\n",
       "    <tr>\n",
       "      <th>9</th>\n",
       "      <td>43.294765</td>\n",
       "      <td>-423.984467</td>\n",
       "      <td>Fam2</td>\n",
       "    </tr>\n",
       "    <tr>\n",
       "      <th>10</th>\n",
       "      <td>-265.860687</td>\n",
       "      <td>-439.471375</td>\n",
       "      <td>Fam2</td>\n",
       "    </tr>\n",
       "    <tr>\n",
       "      <th>11</th>\n",
       "      <td>-217.634399</td>\n",
       "      <td>-1282.424316</td>\n",
       "      <td>Fam5</td>\n",
       "    </tr>\n",
       "    <tr>\n",
       "      <th>12</th>\n",
       "      <td>443.499512</td>\n",
       "      <td>1392.962280</td>\n",
       "      <td>Fam3</td>\n",
       "    </tr>\n",
       "    <tr>\n",
       "      <th>13</th>\n",
       "      <td>443.499512</td>\n",
       "      <td>1392.962280</td>\n",
       "      <td>Fam3</td>\n",
       "    </tr>\n",
       "    <tr>\n",
       "      <th>14</th>\n",
       "      <td>30.158615</td>\n",
       "      <td>440.792877</td>\n",
       "      <td>Fam6</td>\n",
       "    </tr>\n",
       "    <tr>\n",
       "      <th>15</th>\n",
       "      <td>30.158615</td>\n",
       "      <td>440.792877</td>\n",
       "      <td>Fam6</td>\n",
       "    </tr>\n",
       "    <tr>\n",
       "      <th>16</th>\n",
       "      <td>-854.996704</td>\n",
       "      <td>165.988785</td>\n",
       "      <td>Fam1</td>\n",
       "    </tr>\n",
       "    <tr>\n",
       "      <th>17</th>\n",
       "      <td>30.158615</td>\n",
       "      <td>440.792877</td>\n",
       "      <td>Fam6</td>\n",
       "    </tr>\n",
       "    <tr>\n",
       "      <th>18</th>\n",
       "      <td>1163.331299</td>\n",
       "      <td>-113.254707</td>\n",
       "      <td>Fam4</td>\n",
       "    </tr>\n",
       "    <tr>\n",
       "      <th>19</th>\n",
       "      <td>30.158615</td>\n",
       "      <td>440.792877</td>\n",
       "      <td>Fam6</td>\n",
       "    </tr>\n",
       "    <tr>\n",
       "      <th>20</th>\n",
       "      <td>249.547226</td>\n",
       "      <td>-1134.846924</td>\n",
       "      <td>Fam5</td>\n",
       "    </tr>\n",
       "  </tbody>\n",
       "</table>\n",
       "</div>"
      ],
      "text/plain": [
       "          TSNE1        TSNE2 Family\n",
       "0  -1194.833374   349.296631   Fam1\n",
       "1   -873.866882   582.548950   Fam1\n",
       "2     63.464809  1473.819824   Fam3\n",
       "3   -217.634399 -1282.424316   Fam5\n",
       "4     30.158615   440.792877   Fam6\n",
       "5   1163.331299  -113.254707   Fam4\n",
       "6   -217.634399 -1282.424316   Fam5\n",
       "7   1089.310181  -488.248596   Fam4\n",
       "8   -217.634399 -1282.424316   Fam5\n",
       "9     43.294765  -423.984467   Fam2\n",
       "10  -265.860687  -439.471375   Fam2\n",
       "11  -217.634399 -1282.424316   Fam5\n",
       "12   443.499512  1392.962280   Fam3\n",
       "13   443.499512  1392.962280   Fam3\n",
       "14    30.158615   440.792877   Fam6\n",
       "15    30.158615   440.792877   Fam6\n",
       "16  -854.996704   165.988785   Fam1\n",
       "17    30.158615   440.792877   Fam6\n",
       "18  1163.331299  -113.254707   Fam4\n",
       "19    30.158615   440.792877   Fam6\n",
       "20   249.547226 -1134.846924   Fam5"
      ]
     },
     "execution_count": 71,
     "metadata": {},
     "output_type": "execute_result"
    }
   ],
   "source": [
    "df_tsne = pd.DataFrame(tsne_results, columns=['TSNE1', 'TSNE2'])\n",
    "df_tsne['Family'] = df_train['Family'] # Add labels column from df_train to df_tsne\n",
    "df_tsne"
   ]
  },
  {
   "cell_type": "code",
   "execution_count": 73,
   "id": "7e6717b4-7b9e-40f6-897b-d6778eed7269",
   "metadata": {},
   "outputs": [
    {
     "data": {
      "text/plain": [
       "(np.float64(-1312.7416076660156),\n",
       " np.float64(1281.2395324707031),\n",
       " np.float64(-1420.2365234375),\n",
       " np.float64(1611.63203125))"
      ]
     },
     "execution_count": 73,
     "metadata": {},
     "output_type": "execute_result"
    },
    {
     "data": {
      "image/png": "[encoded data removed]",
      "text/plain": [
       "<Figure size 800x600 with 1 Axes>"
      ]
     },
     "metadata": {},
     "output_type": "display_data"
    }
   ],
   "source": [
    "fig, ax = plt.subplots(figsize=(8,6)) # Set figsize\n",
    "sns.set_style('darkgrid', {\"grid.color\": \".6\", \"grid.linestyle\": \":\"})\n",
    "sns.scatterplot(data=df_tsne, x='TSNE1', y='TSNE2', hue='Family', palette='hls')\n",
    "sns.move_legend(ax, \"upper left\", bbox_to_anchor=(1, 1))\n",
    "plt.title('Scatter plot of malware family GREENCAT using t-SNE');\n",
    "plt.xlabel('TSNE1');\n",
    "plt.ylabel('TSNE2');\n",
    "plt.axis('equal')"
   ]
  },
  {
   "cell_type": "code",
   "execution_count": null,
   "id": "1738a6f4-a3bd-4dc7-a9c0-976d8a10f593",
   "metadata": {},
   "outputs": [],
   "source": []
  }
 ],
 "metadata": {
  "kernelspec": {
   "display_name": "Python 3 (ipykernel)",
   "language": "python",
   "name": "python3"
  },
  "language_info": {
   "codemirror_mode": {
    "name": "ipython",
    "version": 3
   },
   "file_extension": ".py",
   "mimetype": "text/x-python",
   "name": "python",
   "nbconvert_exporter": "python",
   "pygments_lexer": "ipython3",
   "version": "3.9.6"
  }
 },
 "nbformat": 4,
 "nbformat_minor": 5
}
