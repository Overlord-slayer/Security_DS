{
 "cells": [
  {
   "cell_type": "markdown",
   "id": "20805efa-0f71-4d2b-8103-9f567a0770e8",
   "metadata": {},
   "source": [
    "# PARTE 1"
   ]
  },
  {
   "cell_type": "code",
   "execution_count": 1,
   "id": "2e882b91-a3d0-4467-a228-2f53c7e2a984",
   "metadata": {},
   "outputs": [],
   "source": [
    "import pandas as pd\n",
    "import numpy as np\n",
    "import matplotlib.pyplot as plt\n",
    "import seaborn as sns\n",
    "from urllib.parse import urlparse\n",
    "\n",
    "from typing import *\n",
    "from collections import Counter\n",
    "import math\n",
    "import re\n",
    "\n",
    "# Scikit-Learn\n",
    "from sklearn.feature_extraction.text import TfidfVectorizer\n",
    "from sklearn.model_selection import train_test_split\n",
    "from sklearn.preprocessing import LabelEncoder\n",
    "from sklearn.svm import *\n",
    "from sklearn.tree import *\n",
    "from sklearn.metrics import *\n",
    "\n",
    "from Levenshtein import distance"
   ]
  },
  {
   "cell_type": "code",
   "execution_count": 2,
   "id": "df33005e-d9f1-4915-a2e0-d2ac700ecc6d",
   "metadata": {},
   "outputs": [
    {
     "data": {
      "text/html": [
       "<div>\n",
       "<style scoped>\n",
       "    .dataframe tbody tr th:only-of-type {\n",
       "        vertical-align: middle;\n",
       "    }\n",
       "\n",
       "    .dataframe tbody tr th {\n",
       "        vertical-align: top;\n",
       "    }\n",
       "\n",
       "    .dataframe thead th {\n",
       "        text-align: right;\n",
       "    }\n",
       "</style>\n",
       "<table border=\"1\" class=\"dataframe\">\n",
       "  <thead>\n",
       "    <tr style=\"text-align: right;\">\n",
       "      <th></th>\n",
       "      <th>url</th>\n",
       "      <th>status</th>\n",
       "    </tr>\n",
       "  </thead>\n",
       "  <tbody>\n",
       "    <tr>\n",
       "      <th>0</th>\n",
       "      <td>http://www.crestonwood.com/router.php</td>\n",
       "      <td>legitimate</td>\n",
       "    </tr>\n",
       "    <tr>\n",
       "      <th>1</th>\n",
       "      <td>http://shadetreetechnology.com/V4/validation/a...</td>\n",
       "      <td>phishing</td>\n",
       "    </tr>\n",
       "    <tr>\n",
       "      <th>2</th>\n",
       "      <td>https://support-appleld.com.secureupdate.duila...</td>\n",
       "      <td>phishing</td>\n",
       "    </tr>\n",
       "    <tr>\n",
       "      <th>3</th>\n",
       "      <td>http://rgipt.ac.in</td>\n",
       "      <td>legitimate</td>\n",
       "    </tr>\n",
       "    <tr>\n",
       "      <th>4</th>\n",
       "      <td>http://www.iracing.com/tracks/gateway-motorspo...</td>\n",
       "      <td>legitimate</td>\n",
       "    </tr>\n",
       "    <tr>\n",
       "      <th>...</th>\n",
       "      <td>...</td>\n",
       "      <td>...</td>\n",
       "    </tr>\n",
       "    <tr>\n",
       "      <th>11425</th>\n",
       "      <td>http://www.fontspace.com/category/blackletter</td>\n",
       "      <td>legitimate</td>\n",
       "    </tr>\n",
       "    <tr>\n",
       "      <th>11426</th>\n",
       "      <td>http://www.budgetbots.com/server.php/Server%20...</td>\n",
       "      <td>phishing</td>\n",
       "    </tr>\n",
       "    <tr>\n",
       "      <th>11427</th>\n",
       "      <td>https://www.facebook.com/Interactive-Televisio...</td>\n",
       "      <td>legitimate</td>\n",
       "    </tr>\n",
       "    <tr>\n",
       "      <th>11428</th>\n",
       "      <td>http://www.mypublicdomainpictures.com/</td>\n",
       "      <td>legitimate</td>\n",
       "    </tr>\n",
       "    <tr>\n",
       "      <th>11429</th>\n",
       "      <td>http://174.139.46.123/ap/signin?openid.pape.ma...</td>\n",
       "      <td>phishing</td>\n",
       "    </tr>\n",
       "  </tbody>\n",
       "</table>\n",
       "<p>11430 rows × 2 columns</p>\n",
       "</div>"
      ],
      "text/plain": [
       "                                                     url      status\n",
       "0                  http://www.crestonwood.com/router.php  legitimate\n",
       "1      http://shadetreetechnology.com/V4/validation/a...    phishing\n",
       "2      https://support-appleld.com.secureupdate.duila...    phishing\n",
       "3                                     http://rgipt.ac.in  legitimate\n",
       "4      http://www.iracing.com/tracks/gateway-motorspo...  legitimate\n",
       "...                                                  ...         ...\n",
       "11425      http://www.fontspace.com/category/blackletter  legitimate\n",
       "11426  http://www.budgetbots.com/server.php/Server%20...    phishing\n",
       "11427  https://www.facebook.com/Interactive-Televisio...  legitimate\n",
       "11428             http://www.mypublicdomainpictures.com/  legitimate\n",
       "11429  http://174.139.46.123/ap/signin?openid.pape.ma...    phishing\n",
       "\n",
       "[11430 rows x 2 columns]"
      ]
     },
     "execution_count": 2,
     "metadata": {},
     "output_type": "execute_result"
    }
   ],
   "source": [
    "df = pd.read_csv(\"dataset_pishing.csv\")\n",
    "df"
   ]
  },
  {
   "cell_type": "code",
   "execution_count": 3,
   "id": "eceba61d-222e-4251-892d-57de46aff033",
   "metadata": {},
   "outputs": [
    {
     "data": {
      "text/html": [
       "<div>\n",
       "<style scoped>\n",
       "    .dataframe tbody tr th:only-of-type {\n",
       "        vertical-align: middle;\n",
       "    }\n",
       "\n",
       "    .dataframe tbody tr th {\n",
       "        vertical-align: top;\n",
       "    }\n",
       "\n",
       "    .dataframe thead th {\n",
       "        text-align: right;\n",
       "    }\n",
       "</style>\n",
       "<table border=\"1\" class=\"dataframe\">\n",
       "  <thead>\n",
       "    <tr style=\"text-align: right;\">\n",
       "      <th></th>\n",
       "      <th>url</th>\n",
       "      <th>status</th>\n",
       "    </tr>\n",
       "  </thead>\n",
       "  <tbody>\n",
       "    <tr>\n",
       "      <th>count</th>\n",
       "      <td>11430</td>\n",
       "      <td>11430</td>\n",
       "    </tr>\n",
       "    <tr>\n",
       "      <th>unique</th>\n",
       "      <td>11429</td>\n",
       "      <td>2</td>\n",
       "    </tr>\n",
       "    <tr>\n",
       "      <th>top</th>\n",
       "      <td>http://e710z0ear.du.r.appspot.com/c:/users/use...</td>\n",
       "      <td>legitimate</td>\n",
       "    </tr>\n",
       "    <tr>\n",
       "      <th>freq</th>\n",
       "      <td>2</td>\n",
       "      <td>5715</td>\n",
       "    </tr>\n",
       "  </tbody>\n",
       "</table>\n",
       "</div>"
      ],
      "text/plain": [
       "                                                      url      status\n",
       "count                                               11430       11430\n",
       "unique                                              11429           2\n",
       "top     http://e710z0ear.du.r.appspot.com/c:/users/use...  legitimate\n",
       "freq                                                    2        5715"
      ]
     },
     "execution_count": 3,
     "metadata": {},
     "output_type": "execute_result"
    }
   ],
   "source": [
    "df.describe()"
   ]
  },
  {
   "cell_type": "markdown",
   "id": "3563eb24-ed64-4951-ac40-b3715370252f",
   "metadata": {},
   "source": [
    "### Observaciones etiquetadas en la columna status como “legit” y como “pishing”. "
   ]
  },
  {
   "cell_type": "code",
   "execution_count": 4,
   "id": "b06a6bec-88d7-4aa3-b08a-a1ac0c57c24f",
   "metadata": {},
   "outputs": [
    {
     "data": {
      "text/plain": [
       "status\n",
       "legitimate    5715\n",
       "phishing      5715\n",
       "Name: count, dtype: int64"
      ]
     },
     "execution_count": 4,
     "metadata": {},
     "output_type": "execute_result"
    }
   ],
   "source": [
    "df[\"status\"].value_counts()"
   ]
  },
  {
   "cell_type": "markdown",
   "id": "5ec5772b-221d-4108-a929-4d1e410bff5b",
   "metadata": {},
   "source": [
    "### ¿Está balanceado el dataset?\n",
    " En este caso, se puede observar que el dataset si esta balanceado, pues hay la misma cantidad de elementos para ambos casos (legitimate, phishing)"
   ]
  },
  {
   "cell_type": "markdown",
   "id": "db31d9bd-8f37-46f6-a293-adb10ce5383a",
   "metadata": {},
   "source": [
    "### 1. ¿Qué ventajas tiene el análisis de una URL contra el análisis de otros datos, cómo el tiempo de vida del dominio, o las características de la página Web?\n",
    "En este caso, poder analizar la URL tiene mas beneficios, ya que al final, el tiempo de vida o caracteristicas no proveen suficiente informacion.\n",
    "El dominio pudo tener modificaciones, en cuanto deploys o bien, traslado a una nueva URL, lo cual no deja mucha informacion para poder \n",
    "determinar que lo es. La pagina puede tener sus propias caracteristicas, pero esas pudieron ser hechas con fin de la misma, como si fuera\n",
    "su proposito, lo cual sigue siendo ambiguo. Con respecto a la URL, es mas fiel, pues a mi parecer, debe tener un nombre coherente con lo que \n",
    "es la misma pagina, ya que mayormente, las paginas de phishing tiene alteraciones sutiles, pero las posee, lo cual, esa simple alteracion\n",
    "puede levantar alarmas. Porque tener un dominio mal escrito? Acaso ese es el proposio? No tiene sentido que el dominio tenga un mal nombre\n",
    "pues es la marca de la misma empresa. Algo a destacar, y que no habia tomado en cuenta, es que tambien, es mucho mas facil analizar URLs que los \n",
    "sitios perse, pues es mas sencillo solo analizar texto, que cantidades enormes de texto que representa una pagina, lo cual, lo vuelve costoso.\n",
    "\n",
    "### 2. ¿Qué características de una URL son más prometedoras para la detección de phishing?\n",
    "Modificaciones en el nombre, o bien, caracteres totalmente desvariados, como una longitud totalmente fuera de lo normal. Protocoloes que no tiene seguridad\n",
    "o que no son recomendables o bien, puertos. Tambien, acortamiento de la misma URL, lo cual es sumamente sospechoso y tambien, como parte de la longitud\n",
    "seria el paso de parametros sospechosos.\n"
   ]
  },
  {
   "cell_type": "markdown",
   "id": "62bc8254-0c75-4622-bf54-245a03b7dd80",
   "metadata": {},
   "source": [
    "En base a la respuesta anterior escriba al menos quince funciones basadas en los artículos, para\n",
    "derivar características que un modelo pueda utilizar y añada dichas características al dataset original.\n",
    "Incluya dentro de las quince funciones, la entropía de Shanon y relativa."
   ]
  },
  {
   "cell_type": "markdown",
   "id": "9bf58b8a-a0dc-4c86-957b-d6667ae49c91",
   "metadata": {},
   "source": [
    "# 1. Longitud de la URL"
   ]
  },
  {
   "cell_type": "code",
   "execution_count": 5,
   "id": "d23feba7-706b-4f2c-902c-3f9a5918c92e",
   "metadata": {},
   "outputs": [],
   "source": [
    "def url_length(url: str):\n",
    "\treturn len(url)"
   ]
  },
  {
   "cell_type": "markdown",
   "id": "32083678-23cb-4ee0-a3dc-75548c727409",
   "metadata": {},
   "source": [
    "# 2. Longitud del dominio"
   ]
  },
  {
   "cell_type": "code",
   "execution_count": 6,
   "id": "1f298349-bc08-4894-9387-2deafc484b49",
   "metadata": {},
   "outputs": [],
   "source": [
    "def domain_length(url: str):\n",
    "\tdomain = url.split('//')[-1].split('/')[0]\n",
    "\treturn len(domain)"
   ]
  },
  {
   "cell_type": "markdown",
   "id": "2a9bb229-9d41-4dd0-acfc-56ee6edec0f1",
   "metadata": {},
   "source": [
    "# 3. Número de subdominios"
   ]
  },
  {
   "cell_type": "code",
   "execution_count": 7,
   "id": "15cdfc11-975e-4b20-9491-567d20744403",
   "metadata": {},
   "outputs": [],
   "source": [
    "def count_subdomains(url: str):\n",
    "\tdomain = url.split('//')[-1].split('/')[0]\n",
    "\treturn domain.count('.')"
   ]
  },
  {
   "cell_type": "markdown",
   "id": "afb2b8e7-3792-48b6-b3d9-f500b4cdd22a",
   "metadata": {},
   "source": [
    "# 4. Presencia de protocolo HTTPS"
   ]
  },
  {
   "cell_type": "code",
   "execution_count": 8,
   "id": "2baa5fc2-89ba-4ec2-b1ce-9c9a30262897",
   "metadata": {},
   "outputs": [],
   "source": [
    "def has_https(url: str):\n",
    "\treturn 1 if url.startswith('https://') else 0"
   ]
  },
  {
   "cell_type": "markdown",
   "id": "b81aa4f7-35bc-4cc9-9d5d-a88aed72951a",
   "metadata": {},
   "source": [
    "# 5. Presencia de acortadores de URL"
   ]
  },
  {
   "cell_type": "code",
   "execution_count": 9,
   "id": "b10db331-d531-4f84-a9f0-2ac471e19638",
   "metadata": {},
   "outputs": [],
   "source": [
    "def is_shortened(url: str):\n",
    "\tshorteners = ['bit.ly', 'tinyurl.com', 'goo.gl']\n",
    "\treturn 1 if any(shortener in url for shortener in shorteners) else 0"
   ]
  },
  {
   "cell_type": "markdown",
   "id": "060dcdb9-6c1c-416c-9249-a8f493124018",
   "metadata": {},
   "source": [
    "# 6. Presencia de direcciones IP"
   ]
  },
  {
   "cell_type": "code",
   "execution_count": 10,
   "id": "287f9300-8faf-44b9-bf41-a93b05b1cb8f",
   "metadata": {},
   "outputs": [],
   "source": [
    "def has_ip_address(url: str):\n",
    "\tpattern = r'\\d{1,3}\\.\\d{1,3}\\.\\d{1,3}\\.\\d{1,3}'\n",
    "\treturn 1 if re.search(pattern, url) else 0"
   ]
  },
  {
   "cell_type": "markdown",
   "id": "4975994a-60ec-4b66-a2d2-1bfa38123c62",
   "metadata": {},
   "source": [
    "# 7. Número de parámetros en la URL"
   ]
  },
  {
   "cell_type": "code",
   "execution_count": 11,
   "id": "e4880499-c1ca-4da4-b862-1c294d9c7d2d",
   "metadata": {},
   "outputs": [],
   "source": [
    "def count_parameters(url: str):\n",
    "\treturn url.count('?') + url.count('&')"
   ]
  },
  {
   "cell_type": "markdown",
   "id": "f92daf0c-d536-4cef-856b-15a12c486165",
   "metadata": {},
   "source": [
    "# 8. Presencia de palabras clave sospechosas"
   ]
  },
  {
   "cell_type": "code",
   "execution_count": 12,
   "id": "02e2c38c-d404-4347-a99d-7f88a1bdf803",
   "metadata": {},
   "outputs": [],
   "source": [
    "def has_suspicious_keywords(url: str):\n",
    "\tkeywords = ['login', 'account', 'verify', 'secure', 'bank']\n",
    "\treturn 1 if any(keyword in url for keyword in keywords) else 0"
   ]
  },
  {
   "cell_type": "markdown",
   "id": "0d200af9-ae8f-4549-bcee-2da11be3ac40",
   "metadata": {},
   "source": [
    "# 9. Uso de caracteres especiales"
   ]
  },
  {
   "cell_type": "code",
   "execution_count": 13,
   "id": "2d9ec472-8345-463b-8742-421613c7ac07",
   "metadata": {},
   "outputs": [],
   "source": [
    "def count_special_chars(url: str):\n",
    "\tspecial_chars = ['@', '-', '_', '!', '?', '=', '&']\n",
    "\treturn sum(url.count(char) for char in special_chars)"
   ]
  },
  {
   "cell_type": "markdown",
   "id": "93b43a25-25c9-4148-9975-afc840373629",
   "metadata": {},
   "source": [
    "# 10. Entropía de Shannon"
   ]
  },
  {
   "cell_type": "code",
   "execution_count": 14,
   "id": "9bd48baa-9d2f-4477-83e7-05889bc27bc0",
   "metadata": {},
   "outputs": [],
   "source": [
    "def shannon_entropy(url: str):\n",
    "\tfreq = Counter(url)\n",
    "\ttotal = len(url)\n",
    "\tentropy = -sum((count / total) * math.log2(count / total) for count in freq.values())\n",
    "\treturn entropy"
   ]
  },
  {
   "cell_type": "markdown",
   "id": "bb148fc8-e3ce-409b-87e6-57d0a368d0a9",
   "metadata": {},
   "source": [
    "# 11. Entropía relativa"
   ]
  },
  {
   "cell_type": "code",
   "execution_count": 15,
   "id": "75e5c08a-625a-4a2b-a6f8-1466f2f43723",
   "metadata": {},
   "outputs": [],
   "source": [
    "def relative_entropy(url: str):\n",
    "\tmax_entropy = math.log2(len(set(url)))\n",
    "\treturn shannon_entropy(url) / max_entropy if max_entropy != 0 else 0"
   ]
  },
  {
   "cell_type": "markdown",
   "id": "6450b6d8-e57b-4aec-b2ba-18fb9f3cc53c",
   "metadata": {},
   "source": [
    "# 12. Longitud de la ruta"
   ]
  },
  {
   "cell_type": "code",
   "execution_count": 16,
   "id": "889e0b16-57e5-4f09-82e5-163f62cd251b",
   "metadata": {},
   "outputs": [],
   "source": [
    "def path_length(url: str):\n",
    "\tpath = url.split('//')[-1].split('/')[1:]\n",
    "\treturn len('/'.join(path))"
   ]
  },
  {
   "cell_type": "markdown",
   "id": "7dc96562-759d-40cb-baaa-cd8857d264c4",
   "metadata": {},
   "source": [
    "# 13. Presencia de puertos no estándar"
   ]
  },
  {
   "cell_type": "code",
   "execution_count": 17,
   "id": "3393392d-b0cb-4c27-80dd-36d0e50a2f79",
   "metadata": {},
   "outputs": [],
   "source": [
    "def has_non_standard_port(url: str):\n",
    "\treturn 1 if re.search(r':\\d+', url) else 0"
   ]
  },
  {
   "cell_type": "markdown",
   "id": "2f6ba2b8-e03b-4f2d-bec4-637856461d68",
   "metadata": {},
   "source": [
    "# 14. Similitud con dominios conocidos"
   ]
  },
  {
   "cell_type": "code",
   "execution_count": 18,
   "id": "75ac805a-7aef-430e-9f9f-f8da800c88a1",
   "metadata": {},
   "outputs": [],
   "source": [
    "def domain_similarity(url: str, legitimate_domains: List[str]):\n",
    "\tdomain = url.split('//')[-1].split('/')[0]\n",
    "\tmin_distance = min(distance(domain, legit) for legit in legitimate_domains)\n",
    "\treturn min_distance"
   ]
  },
  {
   "cell_type": "code",
   "execution_count": 19,
   "id": "2fef7050-efc3-46db-b3f9-cf474869a22a",
   "metadata": {},
   "outputs": [
    {
     "name": "stdout",
     "output_type": "stream",
     "text": [
      "Distancia de Levenshtein entre 'kitten' y 'sitting': 3\n"
     ]
    }
   ],
   "source": [
    "def levenshtein_distance(s1, s2):\n",
    "\t# Crear una matriz de tamaño (len(s1) + 1) x (len(s2) + 1)\n",
    "\trows = len(s1) + 1\n",
    "\tcols = len(s2) + 1\n",
    "\tdist_matrix = [[0 for _ in range(cols)] for _ in range(rows)]\n",
    "\n",
    "\t# Inicializar la primera columna de la matriz\n",
    "\tfor i in range(1, rows):\n",
    "\t\tdist_matrix[i][0] = i\n",
    "\n",
    "\t# Inicializar la primera fila de la matriz\n",
    "\tfor j in range(1, cols):\n",
    "\t\tdist_matrix[0][j] = j\n",
    "\n",
    "\t# Calcular la distancia de Levenshtein\n",
    "\tfor i in range(1, rows):\n",
    "\t\tfor j in range(1, cols):\n",
    "\t\t\tif s1[i - 1] == s2[j - 1]:\n",
    "\t\t\t\tcost = 0  # No hay costo si los caracteres son iguales\n",
    "\t\t\telse:\n",
    "\t\t\t\tcost = 1  # Costo de sustitución\n",
    "\n",
    "\t\t\t# Calcular el mínimo entre inserción, eliminación y sustitución\n",
    "\t\t\tdist_matrix[i][j] = min(\n",
    "\t\t\t\tdist_matrix[i - 1][j] + 1,      # Eliminación\n",
    "\t\t\t\tdist_matrix[i][j - 1] + 1,      # Inserción\n",
    "\t\t\t\tdist_matrix[i - 1][j - 1] + cost  # Sustitución\n",
    "\t\t\t)\n",
    "\n",
    "\t# La distancia de Levenshtein es el valor en la esquina inferior derecha de la matriz\n",
    "\treturn dist_matrix[-1][-1]\n",
    "\n",
    "s1 = \"kitten\"\n",
    "s2 = \"sitting\"\n",
    "distance = levenshtein_distance(s1, s2)\n",
    "print(f\"Distancia de Levenshtein entre '{s1}' y '{s2}': {distance}\")"
   ]
  },
  {
   "cell_type": "markdown",
   "id": "d6fc5809-b385-4c69-b805-00bb6698f7fc",
   "metadata": {},
   "source": [
    "# 15. Presencia de codificación URL"
   ]
  },
  {
   "cell_type": "code",
   "execution_count": 20,
   "id": "8bef5daa-41e2-438e-8505-ee9ab89a8d59",
   "metadata": {},
   "outputs": [],
   "source": [
    "def has_url_encoding(url: str):\n",
    "\treturn 1 if '%' in url else 0"
   ]
  },
  {
   "cell_type": "code",
   "execution_count": 21,
   "id": "3f08aa96-cb44-414e-9f60-7b9fcc8d313a",
   "metadata": {},
   "outputs": [
    {
     "data": {
      "text/html": [
       "<div>\n",
       "<style scoped>\n",
       "    .dataframe tbody tr th:only-of-type {\n",
       "        vertical-align: middle;\n",
       "    }\n",
       "\n",
       "    .dataframe tbody tr th {\n",
       "        vertical-align: top;\n",
       "    }\n",
       "\n",
       "    .dataframe thead th {\n",
       "        text-align: right;\n",
       "    }\n",
       "</style>\n",
       "<table border=\"1\" class=\"dataframe\">\n",
       "  <thead>\n",
       "    <tr style=\"text-align: right;\">\n",
       "      <th></th>\n",
       "      <th>url</th>\n",
       "      <th>status</th>\n",
       "    </tr>\n",
       "  </thead>\n",
       "  <tbody>\n",
       "    <tr>\n",
       "      <th>0</th>\n",
       "      <td>http://www.crestonwood.com/router.php</td>\n",
       "      <td>legitimate</td>\n",
       "    </tr>\n",
       "    <tr>\n",
       "      <th>1</th>\n",
       "      <td>http://shadetreetechnology.com/V4/validation/a...</td>\n",
       "      <td>phishing</td>\n",
       "    </tr>\n",
       "    <tr>\n",
       "      <th>2</th>\n",
       "      <td>https://support-appleld.com.secureupdate.duila...</td>\n",
       "      <td>phishing</td>\n",
       "    </tr>\n",
       "    <tr>\n",
       "      <th>3</th>\n",
       "      <td>http://rgipt.ac.in</td>\n",
       "      <td>legitimate</td>\n",
       "    </tr>\n",
       "    <tr>\n",
       "      <th>4</th>\n",
       "      <td>http://www.iracing.com/tracks/gateway-motorspo...</td>\n",
       "      <td>legitimate</td>\n",
       "    </tr>\n",
       "    <tr>\n",
       "      <th>...</th>\n",
       "      <td>...</td>\n",
       "      <td>...</td>\n",
       "    </tr>\n",
       "    <tr>\n",
       "      <th>11425</th>\n",
       "      <td>http://www.fontspace.com/category/blackletter</td>\n",
       "      <td>legitimate</td>\n",
       "    </tr>\n",
       "    <tr>\n",
       "      <th>11426</th>\n",
       "      <td>http://www.budgetbots.com/server.php/Server%20...</td>\n",
       "      <td>phishing</td>\n",
       "    </tr>\n",
       "    <tr>\n",
       "      <th>11427</th>\n",
       "      <td>https://www.facebook.com/Interactive-Televisio...</td>\n",
       "      <td>legitimate</td>\n",
       "    </tr>\n",
       "    <tr>\n",
       "      <th>11428</th>\n",
       "      <td>http://www.mypublicdomainpictures.com/</td>\n",
       "      <td>legitimate</td>\n",
       "    </tr>\n",
       "    <tr>\n",
       "      <th>11429</th>\n",
       "      <td>http://174.139.46.123/ap/signin?openid.pape.ma...</td>\n",
       "      <td>phishing</td>\n",
       "    </tr>\n",
       "  </tbody>\n",
       "</table>\n",
       "<p>11430 rows × 2 columns</p>\n",
       "</div>"
      ],
      "text/plain": [
       "                                                     url      status\n",
       "0                  http://www.crestonwood.com/router.php  legitimate\n",
       "1      http://shadetreetechnology.com/V4/validation/a...    phishing\n",
       "2      https://support-appleld.com.secureupdate.duila...    phishing\n",
       "3                                     http://rgipt.ac.in  legitimate\n",
       "4      http://www.iracing.com/tracks/gateway-motorspo...  legitimate\n",
       "...                                                  ...         ...\n",
       "11425      http://www.fontspace.com/category/blackletter  legitimate\n",
       "11426  http://www.budgetbots.com/server.php/Server%20...    phishing\n",
       "11427  https://www.facebook.com/Interactive-Televisio...  legitimate\n",
       "11428             http://www.mypublicdomainpictures.com/  legitimate\n",
       "11429  http://174.139.46.123/ap/signin?openid.pape.ma...    phishing\n",
       "\n",
       "[11430 rows x 2 columns]"
      ]
     },
     "execution_count": 21,
     "metadata": {},
     "output_type": "execute_result"
    }
   ],
   "source": [
    "df.head(5)"
   ]
  },
  {
   "cell_type": "markdown",
   "id": "7f1b5ddb-e45c-4669-97af-e6ffbc8f90fb",
   "metadata": {},
   "source": [
    "# Seleccion de caracteristicas\n",
    "En la exploración de datos, determine las columnas que son constantes, o que no tienen una varianza\n",
    "alta con la columna status. Elimine las características repetidas o irrelevantes para la clasificación de\n",
    "un sitio de phishing. Verifique que no posee observaciones repetidas. Apóyese con la visualización de\n",
    "características y correlación para seleccionar las características más importantes para clasificar una\n",
    "URL legítima de una URL de phishing."
   ]
  },
  {
   "cell_type": "code",
   "execution_count": 22,
   "id": "82340709-67eb-48a4-828f-329c6b645695",
   "metadata": {},
   "outputs": [],
   "source": [
    "def extract_features(url):\n",
    "\tparsed_url = urlparse(url)\n",
    "\t\n",
    "\treturn {\n",
    "\t\t\"url\": url,\n",
    "\t\t\"url_length\": len(url),  # Longitud de la URL\n",
    "\t\t\"num_digits\": sum(c.isdigit() for c in url),  # Cantidad de números\n",
    "\t\t\"num_special_chars\": sum(c in \"!@#$%^&*()_+-=,./<>?\" for c in url),  # Caracteres especiales\n",
    "\t\t\"has_https\": 1 if parsed_url.scheme == \"https\" else 0,  # HTTPS o no\n",
    "\t\t\"num_subdomains\": len(parsed_url.netloc.split(\".\")) - 2,  # Cantidad de subdominios\n",
    "\t\t\"has_login\": 1 if \"login\" in url.lower() else 0,  # Si tiene la palabra \"login\"\n",
    "\t\t\"has_secure\": 1 if \"secure\" in url.lower() else 0,  # Si tiene \"secure\"\n",
    "\t\t\"has_bank\": 1 if \"bank\" in url.lower() else 0,  # Si tiene \"bank\"\n",
    "\t\t\"has_ip\": 1 if re.match(r\"^\\d{1,3}(\\.\\d{1,3}){3}\", parsed_url.netloc) else 0,  # Si tiene una dirección IP\n",
    "\t}\n",
    "\n",
    "# Aplicar la función a cada URL y convertirla en un DataFrame\n",
    "features = df[\"url\"].apply(extract_features).apply(pd.Series)\n",
    "\n",
    "# Unir las características con la columna \"status\"\n",
    "df_final = pd.concat([features,df[\"status\"]], axis=1)\n",
    "\n",
    "# Ver las primeras filas\n",
    "df_final.to_csv(\"caracteristicas.csv\")"
   ]
  },
  {
   "cell_type": "markdown",
   "id": "87d54384-02aa-4184-a037-8d07ed79a0f3",
   "metadata": {},
   "source": [
    "### 3. ¿Qué columnas o características fueron seleccionadas y por qué?\n",
    "En este caso, se tomaron en cuenta en base a las 15 funcionas dterminadas previamete.\n",
    "- Longitud de la URL\n",
    "- Cantidad de caracteres especiales (/, -, _, ?, &, etc.)\n",
    "- Verificar si hay palabras clave, tales como logint, id, secure, bank, etc\n",
    "- Si es https o no\n",
    "- Cantidad de subdominios\n",
    "- Presencia de IP en URL\n",
    "Se consideraron estas, para solo analizar lo que es de interes y no informacion de mas, ya que al final, hay cierta informacion que no aportaria\n",
    "informacion util para el analisis\n",
    "\n",
    "Con respecto a las que son phising y legitimas, se puede observar que son mas largas las de phishing que las legitimas, por ello se consideraron los anteriores caracteristicas."
   ]
  },
  {
   "cell_type": "markdown",
   "id": "012a6cc6-7eef-4fd5-90b8-76d7d6451599",
   "metadata": {},
   "source": [
    "# PARTE 2"
   ]
  },
  {
   "cell_type": "markdown",
   "id": "5c86f69d-3b8f-4e26-be99-d5dc51ee94a6",
   "metadata": {},
   "source": [
    "Separación de datos\n",
    "- Datos de entrenamiento: 55%\n",
    "- Datos de validación: 15%\n",
    "- Datos de prueba: 30%\n",
    "- Almacene cada dataset como un archivo .csv"
   ]
  },
  {
   "cell_type": "markdown",
   "id": "2642fafb-02f2-41c0-824c-c0bfd7fa51a3",
   "metadata": {},
   "source": [
    "Implementación\n",
    "Implemente dos modelos de Machine Learning (a su discreción) para la clasificación de phishing.\n",
    "Muestre y explique los valores obtenidos de las siguientes métricas para los datos de validación y\n",
    "pruebas, para cada modelo, en base al contexto del problema (detección de Pishing).\n",
    "- Matriz de confusión\n",
    "- Precision\n",
    "- Recall\n",
    "- Curva ROC\n",
    "- AUC"
   ]
  },
  {
   "cell_type": "code",
   "execution_count": 26,
   "id": "0bbf068d-7918-4c0e-86a5-30cd93425eec",
   "metadata": {},
   "outputs": [
    {
     "data": {
      "text/html": [
       "<div>\n",
       "<style scoped>\n",
       "    .dataframe tbody tr th:only-of-type {\n",
       "        vertical-align: middle;\n",
       "    }\n",
       "\n",
       "    .dataframe tbody tr th {\n",
       "        vertical-align: top;\n",
       "    }\n",
       "\n",
       "    .dataframe thead th {\n",
       "        text-align: right;\n",
       "    }\n",
       "</style>\n",
       "<table border=\"1\" class=\"dataframe\">\n",
       "  <thead>\n",
       "    <tr style=\"text-align: right;\">\n",
       "      <th></th>\n",
       "      <th>url</th>\n",
       "      <th>status</th>\n",
       "    </tr>\n",
       "  </thead>\n",
       "  <tbody>\n",
       "    <tr>\n",
       "      <th>0</th>\n",
       "      <td>http://www.crestonwood.com/router.php</td>\n",
       "      <td>legitimate</td>\n",
       "    </tr>\n",
       "    <tr>\n",
       "      <th>1</th>\n",
       "      <td>http://shadetreetechnology.com/V4/validation/a...</td>\n",
       "      <td>phishing</td>\n",
       "    </tr>\n",
       "    <tr>\n",
       "      <th>2</th>\n",
       "      <td>https://support-appleld.com.secureupdate.duila...</td>\n",
       "      <td>phishing</td>\n",
       "    </tr>\n",
       "    <tr>\n",
       "      <th>3</th>\n",
       "      <td>http://rgipt.ac.in</td>\n",
       "      <td>legitimate</td>\n",
       "    </tr>\n",
       "    <tr>\n",
       "      <th>4</th>\n",
       "      <td>http://www.iracing.com/tracks/gateway-motorspo...</td>\n",
       "      <td>legitimate</td>\n",
       "    </tr>\n",
       "    <tr>\n",
       "      <th>...</th>\n",
       "      <td>...</td>\n",
       "      <td>...</td>\n",
       "    </tr>\n",
       "    <tr>\n",
       "      <th>11425</th>\n",
       "      <td>http://www.fontspace.com/category/blackletter</td>\n",
       "      <td>legitimate</td>\n",
       "    </tr>\n",
       "    <tr>\n",
       "      <th>11426</th>\n",
       "      <td>http://www.budgetbots.com/server.php/Server%20...</td>\n",
       "      <td>phishing</td>\n",
       "    </tr>\n",
       "    <tr>\n",
       "      <th>11427</th>\n",
       "      <td>https://www.facebook.com/Interactive-Televisio...</td>\n",
       "      <td>legitimate</td>\n",
       "    </tr>\n",
       "    <tr>\n",
       "      <th>11428</th>\n",
       "      <td>http://www.mypublicdomainpictures.com/</td>\n",
       "      <td>legitimate</td>\n",
       "    </tr>\n",
       "    <tr>\n",
       "      <th>11429</th>\n",
       "      <td>http://174.139.46.123/ap/signin?openid.pape.ma...</td>\n",
       "      <td>phishing</td>\n",
       "    </tr>\n",
       "  </tbody>\n",
       "</table>\n",
       "<p>11430 rows × 2 columns</p>\n",
       "</div>"
      ],
      "text/plain": [
       "                                                     url      status\n",
       "0                  http://www.crestonwood.com/router.php  legitimate\n",
       "1      http://shadetreetechnology.com/V4/validation/a...    phishing\n",
       "2      https://support-appleld.com.secureupdate.duila...    phishing\n",
       "3                                     http://rgipt.ac.in  legitimate\n",
       "4      http://www.iracing.com/tracks/gateway-motorspo...  legitimate\n",
       "...                                                  ...         ...\n",
       "11425      http://www.fontspace.com/category/blackletter  legitimate\n",
       "11426  http://www.budgetbots.com/server.php/Server%20...    phishing\n",
       "11427  https://www.facebook.com/Interactive-Televisio...  legitimate\n",
       "11428             http://www.mypublicdomainpictures.com/  legitimate\n",
       "11429  http://174.139.46.123/ap/signin?openid.pape.ma...    phishing\n",
       "\n",
       "[11430 rows x 2 columns]"
      ]
     },
     "execution_count": 26,
     "metadata": {},
     "output_type": "execute_result"
    }
   ],
   "source": [
    "df.head(5)"
   ]
  },
  {
   "cell_type": "code",
   "execution_count": 30,
   "id": "17273367-9c28-4a44-a0f6-9df7353edea8",
   "metadata": {},
   "outputs": [
    {
     "name": "stdout",
     "output_type": "stream",
     "text": [
      "\n",
      "Evaluación para SVM:\n",
      "Matriz de confusión (Validación):\n",
      " [[809  48]\n",
      " [ 76 781]]\n",
      "Precisión (Validación): 0.9420989143546441\n",
      "Recall (Validación): 0.911318553092182\n",
      "Matriz de confusión (Prueba):\n",
      " [[1589  126]\n",
      " [ 157 1558]]\n",
      "Precisión (Prueba): 0.9251781472684085\n",
      "Recall (Prueba): 0.9084548104956268\n",
      "AUC (Validación): 0.969174850806523\n",
      "AUC (Prueba): 0.9580028729525961\n"
     ]
    },
    {
     "data": {
      "image/png": "[encoded data removed]",
      "text/plain": [
       "<Figure size 640x480 with 1 Axes>"
      ]
     },
     "metadata": {},
     "output_type": "display_data"
    },
    {
     "name": "stdout",
     "output_type": "stream",
     "text": [
      "\n",
      "Evaluación para Decision Tree:\n",
      "Matriz de confusión (Validación):\n",
      " [[546 311]\n",
      " [238 619]]\n",
      "Precisión (Validación): 0.6655913978494624\n",
      "Recall (Validación): 0.7222870478413069\n",
      "Matriz de confusión (Prueba):\n",
      " [[1122  593]\n",
      " [ 441 1274]]\n",
      "Precisión (Prueba): 0.6823781467595073\n",
      "Recall (Prueba): 0.7428571428571429\n",
      "AUC (Validación): 0.6796966161026838\n",
      "AUC (Prueba): 0.698542274052478\n"
     ]
    },
    {
     "data": {
      "image/png": "[encoded data removed]",
      "text/plain": [
       "<Figure size 640x480 with 1 Axes>"
      ]
     },
     "metadata": {},
     "output_type": "display_data"
    }
   ],
   "source": [
    "# Dividir los datos\n",
    "train_size, val_size, test_size = 0.55, 0.15, 0.30\n",
    "train_data, temp_data = train_test_split(df, test_size=(1-train_size), stratify=df['status'], random_state=42)\n",
    "val_data, test_data = train_test_split(temp_data, test_size=test_size/(test_size+val_size), stratify=temp_data['status'], random_state=42)\n",
    "\n",
    "# Guardar datasets en CSV\n",
    "train_data.to_csv(\"train_data.csv\", index=False)\n",
    "val_data.to_csv(\"val_data.csv\", index=False)\n",
    "test_data.to_csv(\"test_data.csv\", index=False)\n",
    "\n",
    "# Convertir etiquetas a valores numéricos\n",
    "label_mapping = {'legitimate': 0, 'phishing': 1}\n",
    "df['status'] = df['status'].map(label_mapping)\n",
    "\n",
    "# Vectorización de URLs\n",
    "vectorizer = TfidfVectorizer()\n",
    "X_train = vectorizer.fit_transform(train_data['url'])\n",
    "X_val = vectorizer.transform(val_data['url'])\n",
    "X_test = vectorizer.transform(test_data['url'])\n",
    "\n",
    "y_train = train_data['status'].map(label_mapping)\n",
    "y_val = val_data['status'].map(label_mapping)\n",
    "y_test = test_data['status'].map(label_mapping)\n",
    "\n",
    "# Entrenar modelos\n",
    "svm_model = SVC(probability=True)\n",
    "dt_model = DecisionTreeClassifier()\n",
    "\n",
    "svm_model.fit(X_train, y_train)\n",
    "dt_model.fit(X_train, y_train)\n",
    "\n",
    "# Evaluación de modelos\n",
    "def evaluate_model(model, X_val, y_val, X_test, y_test, model_name):\n",
    "\ty_val_pred = model.predict(X_val)\n",
    "\ty_test_pred = model.predict(X_test)\n",
    "\t\n",
    "\ty_val_prob = model.predict_proba(X_val)[:, 1]\n",
    "\ty_test_prob = model.predict_proba(X_test)[:, 1]\n",
    "\t\n",
    "\t# Métricas\n",
    "\tprint(f\"\\nEvaluación para {model_name}:\")\n",
    "\tprint(\"Matriz de confusión (Validación):\\n\", confusion_matrix(y_val, y_val_pred))\n",
    "\tprint(\"Precisión (Validación):\", precision_score(y_val, y_val_pred))\n",
    "\tprint(\"Recall (Validación):\", recall_score(y_val, y_val_pred))\n",
    "\t\n",
    "\tprint(\"Matriz de confusión (Prueba):\\n\", confusion_matrix(y_test, y_test_pred))\n",
    "\tprint(\"Precisión (Prueba):\", precision_score(y_test, y_test_pred))\n",
    "\tprint(\"Recall (Prueba):\", recall_score(y_test, y_test_pred))\n",
    "\t\n",
    "\t# Curva ROC y AUC\n",
    "\tfpr_val, tpr_val, _ = roc_curve(y_val, y_val_prob)\n",
    "\tfpr_test, tpr_test, _ = roc_curve(y_test, y_test_prob)\n",
    "\tauc_val = auc(fpr_val, tpr_val)\n",
    "\tauc_test = auc(fpr_test, tpr_test)\n",
    "\t\n",
    "\tprint(\"AUC (Validación):\", auc_val)\n",
    "\tprint(\"AUC (Prueba):\", auc_test)\n",
    "\t\n",
    "\tplt.figure()\n",
    "\tplt.plot(fpr_val, tpr_val, label=f'ROC curve (Validación) AUC={auc_val:.2f}')\n",
    "\tplt.plot(fpr_test, tpr_test, label=f'ROC curve (Prueba) AUC={auc_test:.2f}')\n",
    "\tplt.plot([0, 1], [0, 1], 'k--')\n",
    "\tplt.xlabel('False Positive Rate')\n",
    "\tplt.ylabel('True Positive Rate')\n",
    "\tplt.title(f'Curva ROC - {model_name}')\n",
    "\tplt.legend(loc='lower right')\n",
    "\tplt.show()\n",
    "\n",
    "# Evaluar modelos\n",
    "evaluate_model(svm_model, X_val, y_val, X_test, y_test, \"SVM\")\n",
    "evaluate_model(dt_model, X_val, y_val, X_test, y_test, \"Decision Tree\")"
   ]
  },
  {
   "cell_type": "markdown",
   "id": "b3529f36-4fce-4902-927b-157d2ac28fdf",
   "metadata": {},
   "source": [
    "### 4. ¿Cuál es el impacto de clasificar un sitio legítimo como phishing?\n",
    "Si un sitio legítimo es identificado erróneamente como phishing, puede generar varias consecuencias negativas. En primer lugar, los usuarios podrían perder confianza en el sistema, ya que verían que está bloqueando páginas que en realidad son seguras. Esto también puede afectar a las empresas, que perderían visitas y posibles clientes, impactando sus ingresos. Además, los usuarios podrían sentirse frustrados al no poder acceder al sitio que necesitan, obligándolos a buscar alternativas y afectando su experiencia de navegación.\n",
    "\n",
    "### 5. ¿Cuál es el impacto de clasificar un sitio de phishing como legítimo?\n",
    "El impacto de no detectar un sitio de phishing tiene un resultado mucho más grave. Si el sitio fraudulento pasa como legítimo, los usuarios pueden ser engañados para que ingresen datos sensibles, como contraseñas o información bancaria, lo que puede derivar en fraudes y robos de identidad. También podría abrir la puerta a malware y otros ataques cibernéticos. Además, la reputación del sistema de detección se vería comprometida, ya que perdería credibilidad al permitir el acceso a páginas peligrosas.\n",
    "\n",
    "### 6. En base a las respuestas anteriores, ¿Qué métrica elegiría para comparar modelos similares de clasificación de phishing?\n",
    "El principal riesgo es no detectar un sitio de phishing (falsos negativos), por lo que la métrica más importante sería el Recall o Sensibilidad. Esta métrica mide qué tan bien el modelo identifica los sitios fraudulentos y minimiza los casos en los que deja pasar una amenaza. Aunque la Precisión también es relevante, enfocarse demasiado en ella podría aumentar los falsos negativos, lo cual es riesgoso. Otra métrica útil sería el AUC-ROC, ya que permite evaluar el equilibrio entre Precisión y Recall en diferentes umbrales de decisión.\n",
    "\n",
    "### 7. ¿Qué modelo funcionó mejor para la clasificación de phishing? ¿Por qué?\n",
    "El SVM mostró métricas superiores en todos los aspectos. AUC (Área Bajo la Curva ROC): En validación obtuvo 0.97 y en prueba 0.96, lo que indica una excelente capacidad para diferenciar entre sitios legítimos y de phishing.\n",
    "Precisión y Recall: En la fase de prueba, el SVM alcanzó una precisión de 0.925 y un recall de 0.908, lo que significa que logra identificar correctamente la mayoría de los sitios de phishing con pocos falsos positivos.\n",
    "\n",
    "Por otro lado, el Decision Tree obtuvo un AUC significativamente menor (0.68 en validación y 0.70 en prueba), lo que sugiere que tiene una menor capacidad para distinguir entre clases. Además, sus valores de precisión (0.682) y recall (0.742) en la prueba son más bajos, lo que lo hace menos efectivo en la detección de sitios de phishing.\n",
    "\n",
    "Posiblemente se debio a un sobreajuste del mismo modelo con la reparticion de la data, llevando a tales resultados.\n"
   ]
  },
  {
   "cell_type": "markdown",
   "id": "57ae680d-d618-4e9d-ac38-f9d5d86f82e9",
   "metadata": {},
   "source": [
    "### 8. Una empresa desea utilizar su mejor modelo, debido a que sus empleados sufren constantes  ataques de phishing mediante e-mail. La empresa estima que, de un total de 50,000 emails,  un 15% son phishing. ¿Qué cantidad de alarmas generaría su modelo? ¿Cuántas positivas y  cuantas negativas? ¿Funciona el modelo para el BR propuesto? En caso negativo, ¿qué propone para reducir la cantidad de falsas alarmas?\n",
    "\n"
   ]
  },
  {
   "cell_type": "code",
   "execution_count": 1,
   "id": "661babfd-7eb7-43bd-95a8-bc9e388e0337",
   "metadata": {},
   "outputs": [
    {
     "name": "stdout",
     "output_type": "stream",
     "text": [
      "Total de emails analizados: 50000\n",
      "Total de emails phishing: 7500\n",
      "Total de emails legítimos: 42500\n",
      "\n",
      "Verdaderos Positivos (VP): 6810\n",
      "Falsos Negativos (FN): 690\n",
      "Falsos Positivos (FP): 552\n",
      "Verdaderos Negativos (VN): 41948\n",
      "\n",
      "Total de alarmas generadas: 7362\n",
      "Alarmas positivas correctas (VP): 6810\n",
      "Alarmas falsas (FP): 552\n"
     ]
    }
   ],
   "source": [
    "# Datos iniciales\n",
    "total_emails = 50000\n",
    "porcentaje_phishing = 0.15\n",
    "emails_phishing = int(total_emails * porcentaje_phishing)\n",
    "emails_legitimos = total_emails - emails_phishing\n",
    "\n",
    "# Métricas del modelo SVM (prueba)\n",
    "recall = 0.908  # Sensibilidad (detección de phishing correctamente)\n",
    "precision = 0.925  # Precisión (proporción de alarmas reales sobre las generadas)\n",
    "\n",
    "# Cálculo de verdaderos positivos (VP) y falsos negativos (FN)\n",
    "VP = int(emails_phishing * recall)\n",
    "FN = emails_phishing - VP\n",
    "\n",
    "# Cálculo de falsos positivos (FP) usando la ecuación de precisión\n",
    "FP = int((VP / precision) - VP)\n",
    "\n",
    "# Cálculo de verdaderos negativos (VN)\n",
    "VN = emails_legitimos - FP\n",
    "\n",
    "# Total de alarmas generadas\n",
    "total_alarmas = VP + FP\n",
    "\n",
    "# Imprimir resultados\n",
    "print(f\"Total de emails analizados: {total_emails}\")\n",
    "print(f\"Total de emails phishing: {emails_phishing}\")\n",
    "print(f\"Total de emails legítimos: {emails_legitimos}\\n\")\n",
    "\n",
    "print(f\"Verdaderos Positivos (VP): {VP}\")\n",
    "print(f\"Falsos Negativos (FN): {FN}\")\n",
    "print(f\"Falsos Positivos (FP): {FP}\")\n",
    "print(f\"Verdaderos Negativos (VN): {VN}\\n\")\n",
    "\n",
    "print(f\"Total de alarmas generadas: {total_alarmas}\")\n",
    "print(f\"Alarmas positivas correctas (VP): {VP}\")\n",
    "print(f\"Alarmas falsas (FP): {FP}\")\n"
   ]
  },
  {
   "cell_type": "markdown",
   "id": "693f2a3f-7220-45c7-87b9-e118b9e5bf4e",
   "metadata": {},
   "source": [
    "El modelo SVM generaría un total de 7,362 alarmas (es decir, emails clasificados como phishing). De estas:\n",
    "- 6,810 serían alarmas positivas correctas (verdaderos positivos, VP), es decir, correos de phishing detectados correctamente.\n",
    "- 552 serían falsas alarmas (falsos positivos, FP), es decir, correos legítimos que el modelo clasificó erróneamente como phishing.\n",
    "\n",
    "Por otro lado, habría:\n",
    "- 690 correos de phishing que el modelo no detectó (falsos negativos, FN), lo que representa un posible riesgo de seguridad.\n",
    "- 41,948 correos legítimos clasificados correctamente (verdaderos negativos, VN).\n",
    "\n",
    "#### ¿Funciona el modelo para el balance de clases propuesto?\n",
    "\n",
    "El modelo tiene un buen desempeño, ya que logra detectar la mayoría de los correos de phishing (90.8% de recall) y genera una cantidad relativamente baja de falsas alarmas (1.3% de los correos legítimos son marcados erróneamente). Sin embargo, aún deja pasar 690 correos peligrosos, lo que puede ser un riesgo para la empresa.\n",
    "\n",
    "#### ¿Cómo reducir las falsas alarmas?\n",
    "Para poder reducirlo, se considera:\n",
    "- Ajustar el umbral de decisión:\n",
    "Se podría modificar el umbral de clasificación del modelo para ser más conservador con las detecciones. Esto reduciría los falsos positivos, aunque podría aumentar los falsos negativos.\n",
    "\n",
    "- Filtrado adicional o modelo híbrido:\n",
    "Implementar un segundo modelo de verificación (por ejemplo, basado en análisis semántico o reputación de dominios) para validar los casos dudosos antes de generar una alerta.\n",
    "\n",
    "- Mejorar las características del modelo:\n",
    "Incluir más información en la detección, como análisis de contenido, patrones de remitentes o análisis de enlaces sospechosos, para mejorar la precisión.\n",
    "\n",
    "- Sistema de revisión manual:\n",
    "Para empresas con alto riesgo, los correos detectados como phishing podrían someterse a una revisión manual antes de ser bloqueados automáticamente.\n",
    "\n",
    "En conclusión, el modelo es funcional, pero si se busca reducir las falsas alarmas sin comprometer la seguridad, se podrian implementar estrategias como ajuste de umbral, un modelo híbrido o un sistema de verificación adicional."
   ]
  },
  {
   "cell_type": "code",
   "execution_count": null,
   "id": "7529d83e-cb7f-4782-a83f-aec3c9c8324f",
   "metadata": {},
   "outputs": [],
   "source": []
  }
 ],
 "metadata": {
  "kernelspec": {
   "display_name": "Python 3 (ipykernel)",
   "language": "python",
   "name": "python3"
  },
  "language_info": {
   "codemirror_mode": {
    "name": "ipython",
    "version": 3
   },
   "file_extension": ".py",
   "mimetype": "text/x-python",
   "name": "python",
   "nbconvert_exporter": "python",
   "pygments_lexer": "ipython3",
   "version": "3.12.3"
  }
 },
 "nbformat": 4,
 "nbformat_minor": 5
}
